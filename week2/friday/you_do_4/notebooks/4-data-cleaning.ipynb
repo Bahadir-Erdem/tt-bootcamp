{
 "cells": [
  {
   "cell_type": "code",
   "execution_count": 1,
   "metadata": {},
   "outputs": [],
   "source": [
    "import pandas as pd"
   ]
  },
  {
   "cell_type": "code",
   "execution_count": 2,
   "metadata": {},
   "outputs": [],
   "source": [
    "dam_address = \"../dataset/raw/dam_occupancy.csv\"\n",
    "weather_address = \"../dataset/external/weather.csv\"\n",
    "flood_address = \"../dataset/external/flood.csv\"\n",
    "climate_change_address = \"../dataset/external/climate_change.csv\""
   ]
  },
  {
   "cell_type": "code",
   "execution_count": 3,
   "metadata": {},
   "outputs": [],
   "source": [
    "dam_df = pd.read_csv(dam_address)\n",
    "weather_df = pd.read_csv(weather_address)\n",
    "flood_df = pd.read_csv(flood_address)\n",
    "cli_change_df = pd.read_csv(climate_change_address)"
   ]
  },
  {
   "cell_type": "markdown",
   "metadata": {},
   "source": [
    "## Dam Dataset"
   ]
  },
  {
   "cell_type": "code",
   "execution_count": 4,
   "metadata": {},
   "outputs": [
    {
     "data": {
      "application/vnd.microsoft.datawrangler.viewer.v0+json": {
       "columns": [
        {
         "name": "index",
         "rawType": "int64",
         "type": "integer"
        },
        {
         "name": "DATE",
         "rawType": "object",
         "type": "string"
        },
        {
         "name": "GENERAL_DAM_OCCUPANCY_RATE",
         "rawType": "float64",
         "type": "float"
        },
        {
         "name": "GENERAL_DAM_RESERVED_WATER",
         "rawType": "int64",
         "type": "integer"
        }
       ],
       "conversionMethod": "pd.DataFrame",
       "ref": "356e9564-80f2-4e10-ac9c-83f9b127b10e",
       "rows": [
        [
         "0",
         "2005-01-01",
         "44.62",
         "388"
        ],
        [
         "1",
         "2005-01-02",
         "44.62",
         "388"
        ],
        [
         "2",
         "2005-01-03",
         "44.47",
         "386"
        ],
        [
         "3",
         "2005-01-04",
         "44.42",
         "386"
        ],
        [
         "4",
         "2005-01-05",
         "44.35",
         "385"
        ],
        [
         "5",
         "2005-01-06",
         "44.26",
         "385"
        ],
        [
         "6",
         "2005-01-07",
         "44.16",
         "384"
        ],
        [
         "7",
         "2005-01-08",
         "44.01",
         "382"
        ],
        [
         "8",
         "2005-01-09",
         "43.85",
         "381"
        ],
        [
         "9",
         "2005-01-10",
         "43.67",
         "379"
        ],
        [
         "10",
         "2005-01-11",
         "43.52",
         "378"
        ],
        [
         "11",
         "2005-01-12",
         "43.35",
         "377"
        ],
        [
         "12",
         "2005-01-13",
         "43.15",
         "375"
        ],
        [
         "13",
         "2005-01-14",
         "42.93",
         "373"
        ],
        [
         "14",
         "2005-01-15",
         "42.75",
         "371"
        ],
        [
         "15",
         "2005-01-16",
         "42.91",
         "373"
        ],
        [
         "16",
         "2005-01-17",
         "44.46",
         "386"
        ],
        [
         "17",
         "2005-01-18",
         "47.08",
         "409"
        ],
        [
         "18",
         "2005-01-19",
         "48.18",
         "419"
        ],
        [
         "19",
         "2005-01-20",
         "48.36",
         "420"
        ],
        [
         "20",
         "2005-01-21",
         "48.38",
         "420"
        ],
        [
         "21",
         "2005-01-22",
         "48.41",
         "421"
        ],
        [
         "22",
         "2005-01-23",
         "48.8",
         "424"
        ],
        [
         "23",
         "2005-01-24",
         "48.9",
         "425"
        ],
        [
         "24",
         "2005-01-25",
         "48.87",
         "424"
        ],
        [
         "25",
         "2005-01-26",
         "49.4",
         "429"
        ],
        [
         "26",
         "2005-01-27",
         "49.64",
         "431"
        ],
        [
         "27",
         "2005-01-28",
         "50.17",
         "436"
        ],
        [
         "28",
         "2005-01-29",
         "53.13",
         "461"
        ],
        [
         "29",
         "2005-01-30",
         "55.05",
         "478"
        ],
        [
         "30",
         "2005-01-31",
         "56.28",
         "489"
        ],
        [
         "31",
         "2005-02-01",
         "56.69",
         "492"
        ],
        [
         "32",
         "2005-02-02",
         "56.89",
         "494"
        ],
        [
         "33",
         "2005-02-03",
         "58.21",
         "506"
        ],
        [
         "34",
         "2005-02-04",
         "62.87",
         "546"
        ],
        [
         "35",
         "2005-02-05",
         "66.46",
         "577"
        ],
        [
         "36",
         "2005-02-06",
         "67.64",
         "588"
        ],
        [
         "37",
         "2005-02-07",
         "68.3",
         "593"
        ],
        [
         "38",
         "2005-02-08",
         "68.84",
         "598"
        ],
        [
         "39",
         "2005-02-09",
         "69.12",
         "600"
        ],
        [
         "40",
         "2005-02-10",
         "69.28",
         "602"
        ],
        [
         "41",
         "2005-02-11",
         "69.6",
         "605"
        ],
        [
         "42",
         "2005-02-12",
         "69.78",
         "606"
        ],
        [
         "43",
         "2005-02-13",
         "70.13",
         "609"
        ],
        [
         "44",
         "2005-02-14",
         "71.29",
         "619"
        ],
        [
         "45",
         "2005-02-15",
         "74.45",
         "647"
        ],
        [
         "46",
         "2005-02-16",
         "76.76",
         "667"
        ],
        [
         "47",
         "2005-02-17",
         "77.69",
         "675"
        ],
        [
         "48",
         "2005-02-18",
         "78.34",
         "681"
        ],
        [
         "49",
         "2005-02-19",
         "79.08",
         "687"
        ]
       ],
       "shape": {
        "columns": 3,
        "rows": 5941
       }
      },
      "text/html": [
       "<div>\n",
       "<style scoped>\n",
       "    .dataframe tbody tr th:only-of-type {\n",
       "        vertical-align: middle;\n",
       "    }\n",
       "\n",
       "    .dataframe tbody tr th {\n",
       "        vertical-align: top;\n",
       "    }\n",
       "\n",
       "    .dataframe thead th {\n",
       "        text-align: right;\n",
       "    }\n",
       "</style>\n",
       "<table border=\"1\" class=\"dataframe\">\n",
       "  <thead>\n",
       "    <tr style=\"text-align: right;\">\n",
       "      <th></th>\n",
       "      <th>DATE</th>\n",
       "      <th>GENERAL_DAM_OCCUPANCY_RATE</th>\n",
       "      <th>GENERAL_DAM_RESERVED_WATER</th>\n",
       "    </tr>\n",
       "  </thead>\n",
       "  <tbody>\n",
       "    <tr>\n",
       "      <th>0</th>\n",
       "      <td>2005-01-01</td>\n",
       "      <td>44.62</td>\n",
       "      <td>388</td>\n",
       "    </tr>\n",
       "    <tr>\n",
       "      <th>1</th>\n",
       "      <td>2005-01-02</td>\n",
       "      <td>44.62</td>\n",
       "      <td>388</td>\n",
       "    </tr>\n",
       "    <tr>\n",
       "      <th>2</th>\n",
       "      <td>2005-01-03</td>\n",
       "      <td>44.47</td>\n",
       "      <td>386</td>\n",
       "    </tr>\n",
       "    <tr>\n",
       "      <th>3</th>\n",
       "      <td>2005-01-04</td>\n",
       "      <td>44.42</td>\n",
       "      <td>386</td>\n",
       "    </tr>\n",
       "    <tr>\n",
       "      <th>4</th>\n",
       "      <td>2005-01-05</td>\n",
       "      <td>44.35</td>\n",
       "      <td>385</td>\n",
       "    </tr>\n",
       "    <tr>\n",
       "      <th>...</th>\n",
       "      <td>...</td>\n",
       "      <td>...</td>\n",
       "      <td>...</td>\n",
       "    </tr>\n",
       "    <tr>\n",
       "      <th>5936</th>\n",
       "      <td>2021-04-03</td>\n",
       "      <td>73.66</td>\n",
       "      <td>639</td>\n",
       "    </tr>\n",
       "    <tr>\n",
       "      <th>5937</th>\n",
       "      <td>2021-04-04</td>\n",
       "      <td>73.76</td>\n",
       "      <td>640</td>\n",
       "    </tr>\n",
       "    <tr>\n",
       "      <th>5938</th>\n",
       "      <td>2021-04-05</td>\n",
       "      <td>74.70</td>\n",
       "      <td>648</td>\n",
       "    </tr>\n",
       "    <tr>\n",
       "      <th>5939</th>\n",
       "      <td>2021-04-06</td>\n",
       "      <td>75.88</td>\n",
       "      <td>659</td>\n",
       "    </tr>\n",
       "    <tr>\n",
       "      <th>5940</th>\n",
       "      <td>2021-04-07</td>\n",
       "      <td>76.53</td>\n",
       "      <td>664</td>\n",
       "    </tr>\n",
       "  </tbody>\n",
       "</table>\n",
       "<p>5941 rows × 3 columns</p>\n",
       "</div>"
      ],
      "text/plain": [
       "            DATE  GENERAL_DAM_OCCUPANCY_RATE  GENERAL_DAM_RESERVED_WATER\n",
       "0     2005-01-01                       44.62                         388\n",
       "1     2005-01-02                       44.62                         388\n",
       "2     2005-01-03                       44.47                         386\n",
       "3     2005-01-04                       44.42                         386\n",
       "4     2005-01-05                       44.35                         385\n",
       "...          ...                         ...                         ...\n",
       "5936  2021-04-03                       73.66                         639\n",
       "5937  2021-04-04                       73.76                         640\n",
       "5938  2021-04-05                       74.70                         648\n",
       "5939  2021-04-06                       75.88                         659\n",
       "5940  2021-04-07                       76.53                         664\n",
       "\n",
       "[5941 rows x 3 columns]"
      ]
     },
     "execution_count": 4,
     "metadata": {},
     "output_type": "execute_result"
    }
   ],
   "source": [
    "dam_df"
   ]
  },
  {
   "cell_type": "code",
   "execution_count": 5,
   "metadata": {},
   "outputs": [
    {
     "name": "stdout",
     "output_type": "stream",
     "text": [
      "<class 'pandas.core.frame.DataFrame'>\n",
      "RangeIndex: 5941 entries, 0 to 5940\n",
      "Data columns (total 3 columns):\n",
      " #   Column                      Non-Null Count  Dtype  \n",
      "---  ------                      --------------  -----  \n",
      " 0   DATE                        5941 non-null   object \n",
      " 1   GENERAL_DAM_OCCUPANCY_RATE  5941 non-null   float64\n",
      " 2   GENERAL_DAM_RESERVED_WATER  5941 non-null   int64  \n",
      "dtypes: float64(1), int64(1), object(1)\n",
      "memory usage: 139.4+ KB\n"
     ]
    }
   ],
   "source": [
    "dam_df.info()"
   ]
  },
  {
   "cell_type": "code",
   "execution_count": 6,
   "metadata": {},
   "outputs": [],
   "source": [
    "def lower_column_names(df: pd.DataFrame):\n",
    "    df.columns = df.columns.str.lower()\n",
    "    return df"
   ]
  },
  {
   "cell_type": "code",
   "execution_count": 7,
   "metadata": {},
   "outputs": [],
   "source": [
    "dam_df = (\n",
    "    dam_df\n",
    "    .pipe(lower_column_names)\n",
    "    .assign(**{\"datetime\": lambda df: pd.to_datetime(df[\"date\"])})\n",
    "    .drop(columns=\"date\")\n",
    ")"
   ]
  },
  {
   "cell_type": "markdown",
   "metadata": {},
   "source": [
    "## Weather Dataset"
   ]
  },
  {
   "cell_type": "code",
   "execution_count": 8,
   "metadata": {},
   "outputs": [
    {
     "data": {
      "application/vnd.microsoft.datawrangler.viewer.v0+json": {
       "columns": [
        {
         "name": "index",
         "rawType": "int64",
         "type": "integer"
        },
        {
         "name": "date",
         "rawType": "object",
         "type": "string"
        },
        {
         "name": "weather_code",
         "rawType": "float64",
         "type": "float"
        },
        {
         "name": "temperature_2m_max",
         "rawType": "float64",
         "type": "float"
        },
        {
         "name": "temperature_2m_min",
         "rawType": "float64",
         "type": "float"
        },
        {
         "name": "temperature_2m_mean",
         "rawType": "float64",
         "type": "float"
        },
        {
         "name": "apparent_temperature_max",
         "rawType": "float64",
         "type": "float"
        },
        {
         "name": "apparent_temperature_min",
         "rawType": "float64",
         "type": "float"
        },
        {
         "name": "apparent_temperature_mean",
         "rawType": "float64",
         "type": "float"
        },
        {
         "name": "sunrise",
         "rawType": "int64",
         "type": "integer"
        },
        {
         "name": "sunset",
         "rawType": "int64",
         "type": "integer"
        },
        {
         "name": "daylight_duration",
         "rawType": "float64",
         "type": "float"
        },
        {
         "name": "sunshine_duration",
         "rawType": "float64",
         "type": "float"
        },
        {
         "name": "precipitation_sum",
         "rawType": "float64",
         "type": "float"
        },
        {
         "name": "rain_sum",
         "rawType": "float64",
         "type": "float"
        },
        {
         "name": "snowfall_sum",
         "rawType": "float64",
         "type": "float"
        },
        {
         "name": "precipitation_hours",
         "rawType": "float64",
         "type": "float"
        },
        {
         "name": "wind_speed_10m_max",
         "rawType": "float64",
         "type": "float"
        },
        {
         "name": "wind_gusts_10m_max",
         "rawType": "float64",
         "type": "float"
        },
        {
         "name": "wind_direction_10m_dominant",
         "rawType": "float64",
         "type": "float"
        },
        {
         "name": "shortwave_radiation_sum",
         "rawType": "float64",
         "type": "float"
        },
        {
         "name": "et0_fao_evapotranspiration",
         "rawType": "float64",
         "type": "float"
        }
       ],
       "conversionMethod": "pd.DataFrame",
       "ref": "60c6dd70-34a1-4cde-aa9d-bc199750372c",
       "rows": [
        [
         "0",
         "2004-12-31 21:00:00+00:00",
         "53.0",
         "10.563",
         "7.363",
         "8.990084",
         "9.071384",
         "4.1469555",
         "6.0338445",
         "0",
         "0",
         "33432.535",
         "25582.63",
         "3.5",
         "3.5",
         "0.0",
         "10.0",
         "23.507751",
         "37.44",
         "31.536366",
         "5.19",
         "0.8144206"
        ],
        [
         "1",
         "2005-01-01 21:00:00+00:00",
         "51.0",
         "7.813",
         "4.713",
         "6.660917",
         "4.8168144",
         "2.1813393",
         "3.76984",
         "0",
         "0",
         "33479.133",
         "22339.408",
         "2.8000002",
         "2.8000002",
         "0.0",
         "17.0",
         "13.276144",
         "25.919998",
         "349.9135",
         "3.92",
         "0.6443958"
        ],
        [
         "2",
         "2005-01-02 21:00:00+00:00",
         "51.0",
         "8.613",
         "2.263",
         "6.0317497",
         "5.408062",
         "-1.0330892",
         "3.0097349",
         "0",
         "0",
         "33529.406",
         "27602.402",
         "0.1",
         "0.1",
         "0.0",
         "1.0",
         "13.70839",
         "26.28",
         "260.3468",
         "6.45",
         "0.8633633"
        ]
       ],
       "shape": {
        "columns": 21,
        "rows": 3
       }
      },
      "text/html": [
       "<div>\n",
       "<style scoped>\n",
       "    .dataframe tbody tr th:only-of-type {\n",
       "        vertical-align: middle;\n",
       "    }\n",
       "\n",
       "    .dataframe tbody tr th {\n",
       "        vertical-align: top;\n",
       "    }\n",
       "\n",
       "    .dataframe thead th {\n",
       "        text-align: right;\n",
       "    }\n",
       "</style>\n",
       "<table border=\"1\" class=\"dataframe\">\n",
       "  <thead>\n",
       "    <tr style=\"text-align: right;\">\n",
       "      <th></th>\n",
       "      <th>date</th>\n",
       "      <th>weather_code</th>\n",
       "      <th>temperature_2m_max</th>\n",
       "      <th>temperature_2m_min</th>\n",
       "      <th>temperature_2m_mean</th>\n",
       "      <th>apparent_temperature_max</th>\n",
       "      <th>apparent_temperature_min</th>\n",
       "      <th>apparent_temperature_mean</th>\n",
       "      <th>sunrise</th>\n",
       "      <th>sunset</th>\n",
       "      <th>...</th>\n",
       "      <th>sunshine_duration</th>\n",
       "      <th>precipitation_sum</th>\n",
       "      <th>rain_sum</th>\n",
       "      <th>snowfall_sum</th>\n",
       "      <th>precipitation_hours</th>\n",
       "      <th>wind_speed_10m_max</th>\n",
       "      <th>wind_gusts_10m_max</th>\n",
       "      <th>wind_direction_10m_dominant</th>\n",
       "      <th>shortwave_radiation_sum</th>\n",
       "      <th>et0_fao_evapotranspiration</th>\n",
       "    </tr>\n",
       "  </thead>\n",
       "  <tbody>\n",
       "    <tr>\n",
       "      <th>0</th>\n",
       "      <td>2004-12-31 21:00:00+00:00</td>\n",
       "      <td>53.0</td>\n",
       "      <td>10.563</td>\n",
       "      <td>7.363</td>\n",
       "      <td>8.990084</td>\n",
       "      <td>9.071384</td>\n",
       "      <td>4.146955</td>\n",
       "      <td>6.033844</td>\n",
       "      <td>0</td>\n",
       "      <td>0</td>\n",
       "      <td>...</td>\n",
       "      <td>25582.630</td>\n",
       "      <td>3.5</td>\n",
       "      <td>3.5</td>\n",
       "      <td>0.0</td>\n",
       "      <td>10.0</td>\n",
       "      <td>23.507751</td>\n",
       "      <td>37.440000</td>\n",
       "      <td>31.536366</td>\n",
       "      <td>5.19</td>\n",
       "      <td>0.814421</td>\n",
       "    </tr>\n",
       "    <tr>\n",
       "      <th>1</th>\n",
       "      <td>2005-01-01 21:00:00+00:00</td>\n",
       "      <td>51.0</td>\n",
       "      <td>7.813</td>\n",
       "      <td>4.713</td>\n",
       "      <td>6.660917</td>\n",
       "      <td>4.816814</td>\n",
       "      <td>2.181339</td>\n",
       "      <td>3.769840</td>\n",
       "      <td>0</td>\n",
       "      <td>0</td>\n",
       "      <td>...</td>\n",
       "      <td>22339.408</td>\n",
       "      <td>2.8</td>\n",
       "      <td>2.8</td>\n",
       "      <td>0.0</td>\n",
       "      <td>17.0</td>\n",
       "      <td>13.276144</td>\n",
       "      <td>25.919998</td>\n",
       "      <td>349.913500</td>\n",
       "      <td>3.92</td>\n",
       "      <td>0.644396</td>\n",
       "    </tr>\n",
       "    <tr>\n",
       "      <th>2</th>\n",
       "      <td>2005-01-02 21:00:00+00:00</td>\n",
       "      <td>51.0</td>\n",
       "      <td>8.613</td>\n",
       "      <td>2.263</td>\n",
       "      <td>6.031750</td>\n",
       "      <td>5.408062</td>\n",
       "      <td>-1.033089</td>\n",
       "      <td>3.009735</td>\n",
       "      <td>0</td>\n",
       "      <td>0</td>\n",
       "      <td>...</td>\n",
       "      <td>27602.402</td>\n",
       "      <td>0.1</td>\n",
       "      <td>0.1</td>\n",
       "      <td>0.0</td>\n",
       "      <td>1.0</td>\n",
       "      <td>13.708390</td>\n",
       "      <td>26.280000</td>\n",
       "      <td>260.346800</td>\n",
       "      <td>6.45</td>\n",
       "      <td>0.863363</td>\n",
       "    </tr>\n",
       "  </tbody>\n",
       "</table>\n",
       "<p>3 rows × 21 columns</p>\n",
       "</div>"
      ],
      "text/plain": [
       "                        date  weather_code  temperature_2m_max  \\\n",
       "0  2004-12-31 21:00:00+00:00          53.0              10.563   \n",
       "1  2005-01-01 21:00:00+00:00          51.0               7.813   \n",
       "2  2005-01-02 21:00:00+00:00          51.0               8.613   \n",
       "\n",
       "   temperature_2m_min  temperature_2m_mean  apparent_temperature_max  \\\n",
       "0               7.363             8.990084                  9.071384   \n",
       "1               4.713             6.660917                  4.816814   \n",
       "2               2.263             6.031750                  5.408062   \n",
       "\n",
       "   apparent_temperature_min  apparent_temperature_mean  sunrise  sunset  ...  \\\n",
       "0                  4.146955                   6.033844        0       0  ...   \n",
       "1                  2.181339                   3.769840        0       0  ...   \n",
       "2                 -1.033089                   3.009735        0       0  ...   \n",
       "\n",
       "   sunshine_duration  precipitation_sum  rain_sum  snowfall_sum  \\\n",
       "0          25582.630                3.5       3.5           0.0   \n",
       "1          22339.408                2.8       2.8           0.0   \n",
       "2          27602.402                0.1       0.1           0.0   \n",
       "\n",
       "   precipitation_hours  wind_speed_10m_max  wind_gusts_10m_max  \\\n",
       "0                 10.0           23.507751           37.440000   \n",
       "1                 17.0           13.276144           25.919998   \n",
       "2                  1.0           13.708390           26.280000   \n",
       "\n",
       "   wind_direction_10m_dominant  shortwave_radiation_sum  \\\n",
       "0                    31.536366                     5.19   \n",
       "1                   349.913500                     3.92   \n",
       "2                   260.346800                     6.45   \n",
       "\n",
       "   et0_fao_evapotranspiration  \n",
       "0                    0.814421  \n",
       "1                    0.644396  \n",
       "2                    0.863363  \n",
       "\n",
       "[3 rows x 21 columns]"
      ]
     },
     "execution_count": 8,
     "metadata": {},
     "output_type": "execute_result"
    }
   ],
   "source": [
    "weather_df.head(3)"
   ]
  },
  {
   "cell_type": "code",
   "execution_count": 9,
   "metadata": {},
   "outputs": [],
   "source": [
    "weather_df = (\n",
    "    weather_df\n",
    "    .assign(**{\n",
    "        \"datetime\": lambda df: pd.to_datetime(\n",
    "            pd.to_datetime(df[\"date\"]).dt.tz_localize(None).dt.date\n",
    "        )\n",
    "    })\n",
    "    .drop(columns=\"date\")\n",
    ")"
   ]
  },
  {
   "cell_type": "code",
   "execution_count": 10,
   "metadata": {},
   "outputs": [
    {
     "data": {
      "application/vnd.microsoft.datawrangler.viewer.v0+json": {
       "columns": [
        {
         "name": "index",
         "rawType": "int64",
         "type": "integer"
        },
        {
         "name": "weather_code",
         "rawType": "float64",
         "type": "float"
        },
        {
         "name": "temperature_2m_max",
         "rawType": "float64",
         "type": "float"
        },
        {
         "name": "temperature_2m_min",
         "rawType": "float64",
         "type": "float"
        },
        {
         "name": "temperature_2m_mean",
         "rawType": "float64",
         "type": "float"
        },
        {
         "name": "apparent_temperature_max",
         "rawType": "float64",
         "type": "float"
        },
        {
         "name": "apparent_temperature_min",
         "rawType": "float64",
         "type": "float"
        },
        {
         "name": "apparent_temperature_mean",
         "rawType": "float64",
         "type": "float"
        },
        {
         "name": "sunrise",
         "rawType": "int64",
         "type": "integer"
        },
        {
         "name": "sunset",
         "rawType": "int64",
         "type": "integer"
        },
        {
         "name": "daylight_duration",
         "rawType": "float64",
         "type": "float"
        },
        {
         "name": "sunshine_duration",
         "rawType": "float64",
         "type": "float"
        },
        {
         "name": "precipitation_sum",
         "rawType": "float64",
         "type": "float"
        },
        {
         "name": "rain_sum",
         "rawType": "float64",
         "type": "float"
        },
        {
         "name": "snowfall_sum",
         "rawType": "float64",
         "type": "float"
        },
        {
         "name": "precipitation_hours",
         "rawType": "float64",
         "type": "float"
        },
        {
         "name": "wind_speed_10m_max",
         "rawType": "float64",
         "type": "float"
        },
        {
         "name": "wind_gusts_10m_max",
         "rawType": "float64",
         "type": "float"
        },
        {
         "name": "wind_direction_10m_dominant",
         "rawType": "float64",
         "type": "float"
        },
        {
         "name": "shortwave_radiation_sum",
         "rawType": "float64",
         "type": "float"
        },
        {
         "name": "et0_fao_evapotranspiration",
         "rawType": "float64",
         "type": "float"
        },
        {
         "name": "datetime",
         "rawType": "datetime64[ns]",
         "type": "datetime"
        }
       ],
       "conversionMethod": "pd.DataFrame",
       "ref": "93ca9152-41f4-4ecb-aec7-f7514aa16d62",
       "rows": [
        [
         "0",
         "53.0",
         "10.563",
         "7.363",
         "8.990084",
         "9.071384",
         "4.1469555",
         "6.0338445",
         "0",
         "0",
         "33432.535",
         "25582.63",
         "3.5",
         "3.5",
         "0.0",
         "10.0",
         "23.507751",
         "37.44",
         "31.536366",
         "5.19",
         "0.8144206",
         "2004-12-31 00:00:00"
        ],
        [
         "1",
         "51.0",
         "7.813",
         "4.713",
         "6.660917",
         "4.8168144",
         "2.1813393",
         "3.76984",
         "0",
         "0",
         "33479.133",
         "22339.408",
         "2.8000002",
         "2.8000002",
         "0.0",
         "17.0",
         "13.276144",
         "25.919998",
         "349.9135",
         "3.92",
         "0.6443958",
         "2005-01-01 00:00:00"
        ],
        [
         "2",
         "51.0",
         "8.613",
         "2.263",
         "6.0317497",
         "5.408062",
         "-1.0330892",
         "3.0097349",
         "0",
         "0",
         "33529.406",
         "27602.402",
         "0.1",
         "0.1",
         "0.0",
         "1.0",
         "13.70839",
         "26.28",
         "260.3468",
         "6.45",
         "0.8633633",
         "2005-01-02 00:00:00"
        ]
       ],
       "shape": {
        "columns": 21,
        "rows": 3
       }
      },
      "text/html": [
       "<div>\n",
       "<style scoped>\n",
       "    .dataframe tbody tr th:only-of-type {\n",
       "        vertical-align: middle;\n",
       "    }\n",
       "\n",
       "    .dataframe tbody tr th {\n",
       "        vertical-align: top;\n",
       "    }\n",
       "\n",
       "    .dataframe thead th {\n",
       "        text-align: right;\n",
       "    }\n",
       "</style>\n",
       "<table border=\"1\" class=\"dataframe\">\n",
       "  <thead>\n",
       "    <tr style=\"text-align: right;\">\n",
       "      <th></th>\n",
       "      <th>weather_code</th>\n",
       "      <th>temperature_2m_max</th>\n",
       "      <th>temperature_2m_min</th>\n",
       "      <th>temperature_2m_mean</th>\n",
       "      <th>apparent_temperature_max</th>\n",
       "      <th>apparent_temperature_min</th>\n",
       "      <th>apparent_temperature_mean</th>\n",
       "      <th>sunrise</th>\n",
       "      <th>sunset</th>\n",
       "      <th>daylight_duration</th>\n",
       "      <th>...</th>\n",
       "      <th>precipitation_sum</th>\n",
       "      <th>rain_sum</th>\n",
       "      <th>snowfall_sum</th>\n",
       "      <th>precipitation_hours</th>\n",
       "      <th>wind_speed_10m_max</th>\n",
       "      <th>wind_gusts_10m_max</th>\n",
       "      <th>wind_direction_10m_dominant</th>\n",
       "      <th>shortwave_radiation_sum</th>\n",
       "      <th>et0_fao_evapotranspiration</th>\n",
       "      <th>datetime</th>\n",
       "    </tr>\n",
       "  </thead>\n",
       "  <tbody>\n",
       "    <tr>\n",
       "      <th>0</th>\n",
       "      <td>53.0</td>\n",
       "      <td>10.563</td>\n",
       "      <td>7.363</td>\n",
       "      <td>8.990084</td>\n",
       "      <td>9.071384</td>\n",
       "      <td>4.146955</td>\n",
       "      <td>6.033844</td>\n",
       "      <td>0</td>\n",
       "      <td>0</td>\n",
       "      <td>33432.535</td>\n",
       "      <td>...</td>\n",
       "      <td>3.5</td>\n",
       "      <td>3.5</td>\n",
       "      <td>0.0</td>\n",
       "      <td>10.0</td>\n",
       "      <td>23.507751</td>\n",
       "      <td>37.440000</td>\n",
       "      <td>31.536366</td>\n",
       "      <td>5.19</td>\n",
       "      <td>0.814421</td>\n",
       "      <td>2004-12-31</td>\n",
       "    </tr>\n",
       "    <tr>\n",
       "      <th>1</th>\n",
       "      <td>51.0</td>\n",
       "      <td>7.813</td>\n",
       "      <td>4.713</td>\n",
       "      <td>6.660917</td>\n",
       "      <td>4.816814</td>\n",
       "      <td>2.181339</td>\n",
       "      <td>3.769840</td>\n",
       "      <td>0</td>\n",
       "      <td>0</td>\n",
       "      <td>33479.133</td>\n",
       "      <td>...</td>\n",
       "      <td>2.8</td>\n",
       "      <td>2.8</td>\n",
       "      <td>0.0</td>\n",
       "      <td>17.0</td>\n",
       "      <td>13.276144</td>\n",
       "      <td>25.919998</td>\n",
       "      <td>349.913500</td>\n",
       "      <td>3.92</td>\n",
       "      <td>0.644396</td>\n",
       "      <td>2005-01-01</td>\n",
       "    </tr>\n",
       "    <tr>\n",
       "      <th>2</th>\n",
       "      <td>51.0</td>\n",
       "      <td>8.613</td>\n",
       "      <td>2.263</td>\n",
       "      <td>6.031750</td>\n",
       "      <td>5.408062</td>\n",
       "      <td>-1.033089</td>\n",
       "      <td>3.009735</td>\n",
       "      <td>0</td>\n",
       "      <td>0</td>\n",
       "      <td>33529.406</td>\n",
       "      <td>...</td>\n",
       "      <td>0.1</td>\n",
       "      <td>0.1</td>\n",
       "      <td>0.0</td>\n",
       "      <td>1.0</td>\n",
       "      <td>13.708390</td>\n",
       "      <td>26.280000</td>\n",
       "      <td>260.346800</td>\n",
       "      <td>6.45</td>\n",
       "      <td>0.863363</td>\n",
       "      <td>2005-01-02</td>\n",
       "    </tr>\n",
       "  </tbody>\n",
       "</table>\n",
       "<p>3 rows × 21 columns</p>\n",
       "</div>"
      ],
      "text/plain": [
       "   weather_code  temperature_2m_max  temperature_2m_min  temperature_2m_mean  \\\n",
       "0          53.0              10.563               7.363             8.990084   \n",
       "1          51.0               7.813               4.713             6.660917   \n",
       "2          51.0               8.613               2.263             6.031750   \n",
       "\n",
       "   apparent_temperature_max  apparent_temperature_min  \\\n",
       "0                  9.071384                  4.146955   \n",
       "1                  4.816814                  2.181339   \n",
       "2                  5.408062                 -1.033089   \n",
       "\n",
       "   apparent_temperature_mean  sunrise  sunset  daylight_duration  ...  \\\n",
       "0                   6.033844        0       0          33432.535  ...   \n",
       "1                   3.769840        0       0          33479.133  ...   \n",
       "2                   3.009735        0       0          33529.406  ...   \n",
       "\n",
       "   precipitation_sum  rain_sum  snowfall_sum  precipitation_hours  \\\n",
       "0                3.5       3.5           0.0                 10.0   \n",
       "1                2.8       2.8           0.0                 17.0   \n",
       "2                0.1       0.1           0.0                  1.0   \n",
       "\n",
       "   wind_speed_10m_max  wind_gusts_10m_max  wind_direction_10m_dominant  \\\n",
       "0           23.507751           37.440000                    31.536366   \n",
       "1           13.276144           25.919998                   349.913500   \n",
       "2           13.708390           26.280000                   260.346800   \n",
       "\n",
       "   shortwave_radiation_sum  et0_fao_evapotranspiration   datetime  \n",
       "0                     5.19                    0.814421 2004-12-31  \n",
       "1                     3.92                    0.644396 2005-01-01  \n",
       "2                     6.45                    0.863363 2005-01-02  \n",
       "\n",
       "[3 rows x 21 columns]"
      ]
     },
     "execution_count": 10,
     "metadata": {},
     "output_type": "execute_result"
    }
   ],
   "source": [
    "weather_df.head(3)"
   ]
  },
  {
   "cell_type": "code",
   "execution_count": 11,
   "metadata": {},
   "outputs": [
    {
     "name": "stdout",
     "output_type": "stream",
     "text": [
      "<class 'pandas.core.frame.DataFrame'>\n",
      "RangeIndex: 5941 entries, 0 to 5940\n",
      "Data columns (total 21 columns):\n",
      " #   Column                       Non-Null Count  Dtype         \n",
      "---  ------                       --------------  -----         \n",
      " 0   weather_code                 5941 non-null   float64       \n",
      " 1   temperature_2m_max           5941 non-null   float64       \n",
      " 2   temperature_2m_min           5941 non-null   float64       \n",
      " 3   temperature_2m_mean          5941 non-null   float64       \n",
      " 4   apparent_temperature_max     5941 non-null   float64       \n",
      " 5   apparent_temperature_min     5941 non-null   float64       \n",
      " 6   apparent_temperature_mean    5941 non-null   float64       \n",
      " 7   sunrise                      5941 non-null   int64         \n",
      " 8   sunset                       5941 non-null   int64         \n",
      " 9   daylight_duration            5941 non-null   float64       \n",
      " 10  sunshine_duration            5941 non-null   float64       \n",
      " 11  precipitation_sum            5941 non-null   float64       \n",
      " 12  rain_sum                     5941 non-null   float64       \n",
      " 13  snowfall_sum                 5941 non-null   float64       \n",
      " 14  precipitation_hours          5941 non-null   float64       \n",
      " 15  wind_speed_10m_max           5941 non-null   float64       \n",
      " 16  wind_gusts_10m_max           5941 non-null   float64       \n",
      " 17  wind_direction_10m_dominant  5941 non-null   float64       \n",
      " 18  shortwave_radiation_sum      5941 non-null   float64       \n",
      " 19  et0_fao_evapotranspiration   5941 non-null   float64       \n",
      " 20  datetime                     5941 non-null   datetime64[ns]\n",
      "dtypes: datetime64[ns](1), float64(18), int64(2)\n",
      "memory usage: 974.8 KB\n"
     ]
    }
   ],
   "source": [
    "weather_df.info()"
   ]
  },
  {
   "cell_type": "markdown",
   "metadata": {},
   "source": [
    "## Flood Dataset"
   ]
  },
  {
   "cell_type": "code",
   "execution_count": 12,
   "metadata": {},
   "outputs": [
    {
     "data": {
      "application/vnd.microsoft.datawrangler.viewer.v0+json": {
       "columns": [
        {
         "name": "index",
         "rawType": "int64",
         "type": "integer"
        },
        {
         "name": "date",
         "rawType": "object",
         "type": "string"
        },
        {
         "name": "river_discharge",
         "rawType": "float64",
         "type": "float"
        }
       ],
       "conversionMethod": "pd.DataFrame",
       "ref": "4a3af9fd-98ed-41de-8b38-4d0c75b937c5",
       "rows": [
        [
         "0",
         "2005-01-01 00:00:00+00:00",
         "0.35831344"
        ],
        [
         "1",
         "2005-01-02 00:00:00+00:00",
         "0.35831344"
        ],
        [
         "2",
         "2005-01-03 00:00:00+00:00",
         "0.31219995"
        ]
       ],
       "shape": {
        "columns": 2,
        "rows": 3
       }
      },
      "text/html": [
       "<div>\n",
       "<style scoped>\n",
       "    .dataframe tbody tr th:only-of-type {\n",
       "        vertical-align: middle;\n",
       "    }\n",
       "\n",
       "    .dataframe tbody tr th {\n",
       "        vertical-align: top;\n",
       "    }\n",
       "\n",
       "    .dataframe thead th {\n",
       "        text-align: right;\n",
       "    }\n",
       "</style>\n",
       "<table border=\"1\" class=\"dataframe\">\n",
       "  <thead>\n",
       "    <tr style=\"text-align: right;\">\n",
       "      <th></th>\n",
       "      <th>date</th>\n",
       "      <th>river_discharge</th>\n",
       "    </tr>\n",
       "  </thead>\n",
       "  <tbody>\n",
       "    <tr>\n",
       "      <th>0</th>\n",
       "      <td>2005-01-01 00:00:00+00:00</td>\n",
       "      <td>0.358313</td>\n",
       "    </tr>\n",
       "    <tr>\n",
       "      <th>1</th>\n",
       "      <td>2005-01-02 00:00:00+00:00</td>\n",
       "      <td>0.358313</td>\n",
       "    </tr>\n",
       "    <tr>\n",
       "      <th>2</th>\n",
       "      <td>2005-01-03 00:00:00+00:00</td>\n",
       "      <td>0.312200</td>\n",
       "    </tr>\n",
       "  </tbody>\n",
       "</table>\n",
       "</div>"
      ],
      "text/plain": [
       "                        date  river_discharge\n",
       "0  2005-01-01 00:00:00+00:00         0.358313\n",
       "1  2005-01-02 00:00:00+00:00         0.358313\n",
       "2  2005-01-03 00:00:00+00:00         0.312200"
      ]
     },
     "execution_count": 12,
     "metadata": {},
     "output_type": "execute_result"
    }
   ],
   "source": [
    "flood_df.head(3)"
   ]
  },
  {
   "cell_type": "code",
   "execution_count": 13,
   "metadata": {},
   "outputs": [],
   "source": [
    "flood_df = (\n",
    "    flood_df\n",
    "    .assign(**{\n",
    "        \"datetime\": lambda df: pd.to_datetime(\n",
    "            pd.to_datetime(df[\"date\"]).dt.tz_localize(None).dt.date\n",
    "        )\n",
    "    })\n",
    "    .drop(columns=\"date\")\n",
    ")"
   ]
  },
  {
   "cell_type": "code",
   "execution_count": 14,
   "metadata": {},
   "outputs": [
    {
     "name": "stdout",
     "output_type": "stream",
     "text": [
      "<class 'pandas.core.frame.DataFrame'>\n",
      "RangeIndex: 5941 entries, 0 to 5940\n",
      "Data columns (total 2 columns):\n",
      " #   Column           Non-Null Count  Dtype         \n",
      "---  ------           --------------  -----         \n",
      " 0   river_discharge  5941 non-null   float64       \n",
      " 1   datetime         5941 non-null   datetime64[ns]\n",
      "dtypes: datetime64[ns](1), float64(1)\n",
      "memory usage: 93.0 KB\n"
     ]
    }
   ],
   "source": [
    "flood_df.info()"
   ]
  },
  {
   "cell_type": "markdown",
   "metadata": {},
   "source": [
    "## Climate Change Dataset"
   ]
  },
  {
   "cell_type": "code",
   "execution_count": 15,
   "metadata": {},
   "outputs": [
    {
     "data": {
      "application/vnd.microsoft.datawrangler.viewer.v0+json": {
       "columns": [
        {
         "name": "index",
         "rawType": "int64",
         "type": "integer"
        },
        {
         "name": "date",
         "rawType": "object",
         "type": "string"
        },
        {
         "name": "climate_change_temperature_2m_mean",
         "rawType": "float64",
         "type": "float"
        },
        {
         "name": "climate_change_temperature_2m_max",
         "rawType": "float64",
         "type": "float"
        },
        {
         "name": "climate_change_temperature_2m_min",
         "rawType": "float64",
         "type": "float"
        },
        {
         "name": "climate_change_wind_speed_10m_mean",
         "rawType": "float64",
         "type": "float"
        },
        {
         "name": "climate_change_wind_speed_10m_max",
         "rawType": "float64",
         "type": "float"
        },
        {
         "name": "climate_change_cloud_cover_mean",
         "rawType": "float64",
         "type": "float"
        },
        {
         "name": "climate_change_shortwave_radiation_sum",
         "rawType": "float64",
         "type": "float"
        },
        {
         "name": "climate_change_relative_humidity_2m_mean",
         "rawType": "float64",
         "type": "float"
        },
        {
         "name": "climate_change_relative_humidity_2m_max",
         "rawType": "float64",
         "type": "float"
        },
        {
         "name": "climate_change_relative_humidity_2m_min",
         "rawType": "float64",
         "type": "float"
        },
        {
         "name": "climate_change_dew_point_2m_mean",
         "rawType": "float64",
         "type": "float"
        },
        {
         "name": "climate_change_dew_point_2m_min",
         "rawType": "float64",
         "type": "float"
        },
        {
         "name": "climate_change_dew_point_2m_max",
         "rawType": "float64",
         "type": "float"
        },
        {
         "name": "climate_change_precipitation_sum",
         "rawType": "float64",
         "type": "float"
        },
        {
         "name": "climate_change_rain_sum",
         "rawType": "float64",
         "type": "float"
        },
        {
         "name": "climate_change_snowfall_sum",
         "rawType": "float64",
         "type": "float"
        },
        {
         "name": "climate_change_pressure_msl_mean",
         "rawType": "float64",
         "type": "float"
        },
        {
         "name": "climate_change_soil_moisture_0_to_10cm_mean",
         "rawType": "float64",
         "type": "float"
        },
        {
         "name": "climate_change_et0_fao_evapotranspiration_sum",
         "rawType": "float64",
         "type": "float"
        }
       ],
       "conversionMethod": "pd.DataFrame",
       "ref": "5e06724a-289b-47c8-b9ea-5a730a82a75c",
       "rows": [
        [
         "0",
         "2005-01-01 00:00:00+00:00",
         "9.559418",
         "12.070409",
         "6.5758615",
         "11.667466",
         "28.228834",
         null,
         null,
         "71.42315",
         "82.39349",
         "62.762245",
         "4.387951",
         "2.5541499",
         "6.4470377",
         "0.1275738",
         null,
         null,
         "1015.54956",
         null,
         "1.4364268"
        ],
        [
         "1",
         "2005-01-02 00:00:00+00:00",
         "9.612512",
         "10.779707",
         "6.923346",
         "21.014172",
         "23.266617",
         null,
         null,
         "74.50186",
         "80.47813",
         "65.83115",
         "4.551526",
         "2.793407",
         "5.660715",
         "1.5306889",
         null,
         null,
         "1009.44135",
         null,
         "0.9909548"
        ],
        [
         "2",
         "2005-01-03 00:00:00+00:00",
         "3.6156096",
         "7.0890045",
         "1.4208312",
         "15.315918",
         "26.408207",
         null,
         null,
         "57.580574",
         "67.56276",
         "51.900047",
         "-3.4126642",
         "-4.796935",
         "-1.2502497",
         "13.774413",
         null,
         null,
         "1021.83325",
         null,
         "1.0985928"
        ],
        [
         "3",
         "2005-01-04 00:00:00+00:00",
         "3.7187057",
         "5.1983027",
         "1.4183159",
         "19.740993",
         "17.782825",
         null,
         null,
         "70.659294",
         "84.647385",
         "58.968933",
         "-1.5296472",
         "-3.9674487",
         "0.95512724",
         "0.12752424",
         null,
         null,
         "1025.425",
         null,
         "0.7778741"
        ],
        [
         "4",
         "2005-01-05 00:00:00+00:00",
         "6.9218006",
         "9.3076",
         "4.4158006",
         "15.074694",
         "29.294376",
         null,
         null,
         "80.73801",
         "87.732025",
         "75.03782",
         "3.7574437",
         "2.7207286",
         "4.9444194",
         "0.3825224",
         null,
         null,
         "1018.5167",
         null,
         "1.0821611"
        ]
       ],
       "shape": {
        "columns": 20,
        "rows": 5
       }
      },
      "text/html": [
       "<div>\n",
       "<style scoped>\n",
       "    .dataframe tbody tr th:only-of-type {\n",
       "        vertical-align: middle;\n",
       "    }\n",
       "\n",
       "    .dataframe tbody tr th {\n",
       "        vertical-align: top;\n",
       "    }\n",
       "\n",
       "    .dataframe thead th {\n",
       "        text-align: right;\n",
       "    }\n",
       "</style>\n",
       "<table border=\"1\" class=\"dataframe\">\n",
       "  <thead>\n",
       "    <tr style=\"text-align: right;\">\n",
       "      <th></th>\n",
       "      <th>date</th>\n",
       "      <th>climate_change_temperature_2m_mean</th>\n",
       "      <th>climate_change_temperature_2m_max</th>\n",
       "      <th>climate_change_temperature_2m_min</th>\n",
       "      <th>climate_change_wind_speed_10m_mean</th>\n",
       "      <th>climate_change_wind_speed_10m_max</th>\n",
       "      <th>climate_change_cloud_cover_mean</th>\n",
       "      <th>climate_change_shortwave_radiation_sum</th>\n",
       "      <th>climate_change_relative_humidity_2m_mean</th>\n",
       "      <th>climate_change_relative_humidity_2m_max</th>\n",
       "      <th>climate_change_relative_humidity_2m_min</th>\n",
       "      <th>climate_change_dew_point_2m_mean</th>\n",
       "      <th>climate_change_dew_point_2m_min</th>\n",
       "      <th>climate_change_dew_point_2m_max</th>\n",
       "      <th>climate_change_precipitation_sum</th>\n",
       "      <th>climate_change_rain_sum</th>\n",
       "      <th>climate_change_snowfall_sum</th>\n",
       "      <th>climate_change_pressure_msl_mean</th>\n",
       "      <th>climate_change_soil_moisture_0_to_10cm_mean</th>\n",
       "      <th>climate_change_et0_fao_evapotranspiration_sum</th>\n",
       "    </tr>\n",
       "  </thead>\n",
       "  <tbody>\n",
       "    <tr>\n",
       "      <th>0</th>\n",
       "      <td>2005-01-01 00:00:00+00:00</td>\n",
       "      <td>9.559418</td>\n",
       "      <td>12.070409</td>\n",
       "      <td>6.575862</td>\n",
       "      <td>11.667466</td>\n",
       "      <td>28.228834</td>\n",
       "      <td>NaN</td>\n",
       "      <td>NaN</td>\n",
       "      <td>71.423150</td>\n",
       "      <td>82.393490</td>\n",
       "      <td>62.762245</td>\n",
       "      <td>4.387951</td>\n",
       "      <td>2.554150</td>\n",
       "      <td>6.447038</td>\n",
       "      <td>0.127574</td>\n",
       "      <td>NaN</td>\n",
       "      <td>NaN</td>\n",
       "      <td>1015.54956</td>\n",
       "      <td>NaN</td>\n",
       "      <td>1.436427</td>\n",
       "    </tr>\n",
       "    <tr>\n",
       "      <th>1</th>\n",
       "      <td>2005-01-02 00:00:00+00:00</td>\n",
       "      <td>9.612512</td>\n",
       "      <td>10.779707</td>\n",
       "      <td>6.923346</td>\n",
       "      <td>21.014172</td>\n",
       "      <td>23.266617</td>\n",
       "      <td>NaN</td>\n",
       "      <td>NaN</td>\n",
       "      <td>74.501860</td>\n",
       "      <td>80.478130</td>\n",
       "      <td>65.831150</td>\n",
       "      <td>4.551526</td>\n",
       "      <td>2.793407</td>\n",
       "      <td>5.660715</td>\n",
       "      <td>1.530689</td>\n",
       "      <td>NaN</td>\n",
       "      <td>NaN</td>\n",
       "      <td>1009.44135</td>\n",
       "      <td>NaN</td>\n",
       "      <td>0.990955</td>\n",
       "    </tr>\n",
       "    <tr>\n",
       "      <th>2</th>\n",
       "      <td>2005-01-03 00:00:00+00:00</td>\n",
       "      <td>3.615610</td>\n",
       "      <td>7.089004</td>\n",
       "      <td>1.420831</td>\n",
       "      <td>15.315918</td>\n",
       "      <td>26.408207</td>\n",
       "      <td>NaN</td>\n",
       "      <td>NaN</td>\n",
       "      <td>57.580574</td>\n",
       "      <td>67.562760</td>\n",
       "      <td>51.900047</td>\n",
       "      <td>-3.412664</td>\n",
       "      <td>-4.796935</td>\n",
       "      <td>-1.250250</td>\n",
       "      <td>13.774413</td>\n",
       "      <td>NaN</td>\n",
       "      <td>NaN</td>\n",
       "      <td>1021.83325</td>\n",
       "      <td>NaN</td>\n",
       "      <td>1.098593</td>\n",
       "    </tr>\n",
       "    <tr>\n",
       "      <th>3</th>\n",
       "      <td>2005-01-04 00:00:00+00:00</td>\n",
       "      <td>3.718706</td>\n",
       "      <td>5.198303</td>\n",
       "      <td>1.418316</td>\n",
       "      <td>19.740993</td>\n",
       "      <td>17.782825</td>\n",
       "      <td>NaN</td>\n",
       "      <td>NaN</td>\n",
       "      <td>70.659294</td>\n",
       "      <td>84.647385</td>\n",
       "      <td>58.968933</td>\n",
       "      <td>-1.529647</td>\n",
       "      <td>-3.967449</td>\n",
       "      <td>0.955127</td>\n",
       "      <td>0.127524</td>\n",
       "      <td>NaN</td>\n",
       "      <td>NaN</td>\n",
       "      <td>1025.42500</td>\n",
       "      <td>NaN</td>\n",
       "      <td>0.777874</td>\n",
       "    </tr>\n",
       "    <tr>\n",
       "      <th>4</th>\n",
       "      <td>2005-01-05 00:00:00+00:00</td>\n",
       "      <td>6.921801</td>\n",
       "      <td>9.307600</td>\n",
       "      <td>4.415801</td>\n",
       "      <td>15.074694</td>\n",
       "      <td>29.294376</td>\n",
       "      <td>NaN</td>\n",
       "      <td>NaN</td>\n",
       "      <td>80.738010</td>\n",
       "      <td>87.732025</td>\n",
       "      <td>75.037820</td>\n",
       "      <td>3.757444</td>\n",
       "      <td>2.720729</td>\n",
       "      <td>4.944419</td>\n",
       "      <td>0.382522</td>\n",
       "      <td>NaN</td>\n",
       "      <td>NaN</td>\n",
       "      <td>1018.51670</td>\n",
       "      <td>NaN</td>\n",
       "      <td>1.082161</td>\n",
       "    </tr>\n",
       "  </tbody>\n",
       "</table>\n",
       "</div>"
      ],
      "text/plain": [
       "                        date  climate_change_temperature_2m_mean  \\\n",
       "0  2005-01-01 00:00:00+00:00                            9.559418   \n",
       "1  2005-01-02 00:00:00+00:00                            9.612512   \n",
       "2  2005-01-03 00:00:00+00:00                            3.615610   \n",
       "3  2005-01-04 00:00:00+00:00                            3.718706   \n",
       "4  2005-01-05 00:00:00+00:00                            6.921801   \n",
       "\n",
       "   climate_change_temperature_2m_max  climate_change_temperature_2m_min  \\\n",
       "0                          12.070409                           6.575862   \n",
       "1                          10.779707                           6.923346   \n",
       "2                           7.089004                           1.420831   \n",
       "3                           5.198303                           1.418316   \n",
       "4                           9.307600                           4.415801   \n",
       "\n",
       "   climate_change_wind_speed_10m_mean  climate_change_wind_speed_10m_max  \\\n",
       "0                           11.667466                          28.228834   \n",
       "1                           21.014172                          23.266617   \n",
       "2                           15.315918                          26.408207   \n",
       "3                           19.740993                          17.782825   \n",
       "4                           15.074694                          29.294376   \n",
       "\n",
       "   climate_change_cloud_cover_mean  climate_change_shortwave_radiation_sum  \\\n",
       "0                              NaN                                     NaN   \n",
       "1                              NaN                                     NaN   \n",
       "2                              NaN                                     NaN   \n",
       "3                              NaN                                     NaN   \n",
       "4                              NaN                                     NaN   \n",
       "\n",
       "   climate_change_relative_humidity_2m_mean  \\\n",
       "0                                 71.423150   \n",
       "1                                 74.501860   \n",
       "2                                 57.580574   \n",
       "3                                 70.659294   \n",
       "4                                 80.738010   \n",
       "\n",
       "   climate_change_relative_humidity_2m_max  \\\n",
       "0                                82.393490   \n",
       "1                                80.478130   \n",
       "2                                67.562760   \n",
       "3                                84.647385   \n",
       "4                                87.732025   \n",
       "\n",
       "   climate_change_relative_humidity_2m_min  climate_change_dew_point_2m_mean  \\\n",
       "0                                62.762245                          4.387951   \n",
       "1                                65.831150                          4.551526   \n",
       "2                                51.900047                         -3.412664   \n",
       "3                                58.968933                         -1.529647   \n",
       "4                                75.037820                          3.757444   \n",
       "\n",
       "   climate_change_dew_point_2m_min  climate_change_dew_point_2m_max  \\\n",
       "0                         2.554150                         6.447038   \n",
       "1                         2.793407                         5.660715   \n",
       "2                        -4.796935                        -1.250250   \n",
       "3                        -3.967449                         0.955127   \n",
       "4                         2.720729                         4.944419   \n",
       "\n",
       "   climate_change_precipitation_sum  climate_change_rain_sum  \\\n",
       "0                          0.127574                      NaN   \n",
       "1                          1.530689                      NaN   \n",
       "2                         13.774413                      NaN   \n",
       "3                          0.127524                      NaN   \n",
       "4                          0.382522                      NaN   \n",
       "\n",
       "   climate_change_snowfall_sum  climate_change_pressure_msl_mean  \\\n",
       "0                          NaN                        1015.54956   \n",
       "1                          NaN                        1009.44135   \n",
       "2                          NaN                        1021.83325   \n",
       "3                          NaN                        1025.42500   \n",
       "4                          NaN                        1018.51670   \n",
       "\n",
       "   climate_change_soil_moisture_0_to_10cm_mean  \\\n",
       "0                                          NaN   \n",
       "1                                          NaN   \n",
       "2                                          NaN   \n",
       "3                                          NaN   \n",
       "4                                          NaN   \n",
       "\n",
       "   climate_change_et0_fao_evapotranspiration_sum  \n",
       "0                                       1.436427  \n",
       "1                                       0.990955  \n",
       "2                                       1.098593  \n",
       "3                                       0.777874  \n",
       "4                                       1.082161  "
      ]
     },
     "execution_count": 15,
     "metadata": {},
     "output_type": "execute_result"
    }
   ],
   "source": [
    "cli_change_df.head()"
   ]
  },
  {
   "cell_type": "code",
   "execution_count": 16,
   "metadata": {},
   "outputs": [
    {
     "name": "stdout",
     "output_type": "stream",
     "text": [
      "<class 'pandas.core.frame.DataFrame'>\n",
      "RangeIndex: 5941 entries, 0 to 5940\n",
      "Data columns (total 20 columns):\n",
      " #   Column                                         Non-Null Count  Dtype  \n",
      "---  ------                                         --------------  -----  \n",
      " 0   date                                           5941 non-null   object \n",
      " 1   climate_change_temperature_2m_mean             5941 non-null   float64\n",
      " 2   climate_change_temperature_2m_max              5941 non-null   float64\n",
      " 3   climate_change_temperature_2m_min              5941 non-null   float64\n",
      " 4   climate_change_wind_speed_10m_mean             5941 non-null   float64\n",
      " 5   climate_change_wind_speed_10m_max              5941 non-null   float64\n",
      " 6   climate_change_cloud_cover_mean                0 non-null      float64\n",
      " 7   climate_change_shortwave_radiation_sum         0 non-null      float64\n",
      " 8   climate_change_relative_humidity_2m_mean       5941 non-null   float64\n",
      " 9   climate_change_relative_humidity_2m_max        5941 non-null   float64\n",
      " 10  climate_change_relative_humidity_2m_min        5941 non-null   float64\n",
      " 11  climate_change_dew_point_2m_mean               5941 non-null   float64\n",
      " 12  climate_change_dew_point_2m_min                5941 non-null   float64\n",
      " 13  climate_change_dew_point_2m_max                5941 non-null   float64\n",
      " 14  climate_change_precipitation_sum               5941 non-null   float64\n",
      " 15  climate_change_rain_sum                        0 non-null      float64\n",
      " 16  climate_change_snowfall_sum                    0 non-null      float64\n",
      " 17  climate_change_pressure_msl_mean               5941 non-null   float64\n",
      " 18  climate_change_soil_moisture_0_to_10cm_mean    0 non-null      float64\n",
      " 19  climate_change_et0_fao_evapotranspiration_sum  5941 non-null   float64\n",
      "dtypes: float64(19), object(1)\n",
      "memory usage: 928.4+ KB\n"
     ]
    }
   ],
   "source": [
    "cli_change_df.info()"
   ]
  },
  {
   "cell_type": "code",
   "execution_count": 17,
   "metadata": {},
   "outputs": [],
   "source": [
    "cli_change_df = (\n",
    "    cli_change_df\n",
    "    .pipe(lower_column_names)\n",
    "    .assign(\n",
    "        **{\n",
    "            \"datetime\": lambda df: pd.to_datetime(\n",
    "                pd.to_datetime(df[\"date\"]).dt.tz_localize(None).dt.date\n",
    "            )\n",
    "        }\n",
    "    )\n",
    "    .drop(columns=\"date\")\n",
    "    .dropna(axis=1)\n",
    ")"
   ]
  },
  {
   "cell_type": "code",
   "execution_count": 18,
   "metadata": {},
   "outputs": [
    {
     "name": "stdout",
     "output_type": "stream",
     "text": [
      "<class 'pandas.core.frame.DataFrame'>\n",
      "RangeIndex: 5941 entries, 0 to 5940\n",
      "Data columns (total 15 columns):\n",
      " #   Column                                         Non-Null Count  Dtype         \n",
      "---  ------                                         --------------  -----         \n",
      " 0   climate_change_temperature_2m_mean             5941 non-null   float64       \n",
      " 1   climate_change_temperature_2m_max              5941 non-null   float64       \n",
      " 2   climate_change_temperature_2m_min              5941 non-null   float64       \n",
      " 3   climate_change_wind_speed_10m_mean             5941 non-null   float64       \n",
      " 4   climate_change_wind_speed_10m_max              5941 non-null   float64       \n",
      " 5   climate_change_relative_humidity_2m_mean       5941 non-null   float64       \n",
      " 6   climate_change_relative_humidity_2m_max        5941 non-null   float64       \n",
      " 7   climate_change_relative_humidity_2m_min        5941 non-null   float64       \n",
      " 8   climate_change_dew_point_2m_mean               5941 non-null   float64       \n",
      " 9   climate_change_dew_point_2m_min                5941 non-null   float64       \n",
      " 10  climate_change_dew_point_2m_max                5941 non-null   float64       \n",
      " 11  climate_change_precipitation_sum               5941 non-null   float64       \n",
      " 12  climate_change_pressure_msl_mean               5941 non-null   float64       \n",
      " 13  climate_change_et0_fao_evapotranspiration_sum  5941 non-null   float64       \n",
      " 14  datetime                                       5941 non-null   datetime64[ns]\n",
      "dtypes: datetime64[ns](1), float64(14)\n",
      "memory usage: 696.3 KB\n"
     ]
    }
   ],
   "source": [
    "cli_change_df.info()"
   ]
  },
  {
   "cell_type": "markdown",
   "metadata": {},
   "source": [
    "## Merge Dfs"
   ]
  },
  {
   "cell_type": "code",
   "execution_count": null,
   "metadata": {},
   "outputs": [],
   "source": [
    "final_df = (\n",
    "    dam_df\n",
    "    .merge(weather_df, how=\"left\", on=\"datetime\")\n",
    "    .merge(flood_df, how=\"left\", on=\"datetime\")\n",
    "    .merge(cli_change_df, how=\"left\", on=\"datetime\")\n",
    "    .dropna()\n",
    "    .drop_duplicates()\n",
    "    .drop(columns=[\"sunrise\", \"sunset\"]) # constant value columns\n",
    "    .drop(columns=\"snowfall_sum\") # 96% of values are 0\n",
    "    .drop(columns=\"general_dam_reserved_water\") # just another target column\n",
    "    .drop(columns=\"weather_code\") # Might be used for target encoding later, currently not included.\n",
    ")"
   ]
  },
  {
   "cell_type": "code",
   "execution_count": 20,
   "metadata": {},
   "outputs": [],
   "source": [
    "final_df.to_csv(\"../dataset/interim/past_dataset.csv\", index=False)"
   ]
  }
 ],
 "metadata": {
  "kernelspec": {
   "display_name": ".venv",
   "language": "python",
   "name": "python3"
  },
  "language_info": {
   "codemirror_mode": {
    "name": "ipython",
    "version": 3
   },
   "file_extension": ".py",
   "mimetype": "text/x-python",
   "name": "python",
   "nbconvert_exporter": "python",
   "pygments_lexer": "ipython3",
   "version": "3.11.8"
  }
 },
 "nbformat": 4,
 "nbformat_minor": 2
}
