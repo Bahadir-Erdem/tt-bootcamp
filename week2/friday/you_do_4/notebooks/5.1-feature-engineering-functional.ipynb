{
 "cells": [
  {
   "cell_type": "code",
   "execution_count": 1,
   "metadata": {},
   "outputs": [],
   "source": [
    "import pandas as pd\n",
    "from pandas import DataFrame\n",
    "from typing import Literal, List\n",
    "import numpy as np"
   ]
  },
  {
   "cell_type": "code",
   "execution_count": 2,
   "metadata": {},
   "outputs": [],
   "source": [
    "cleaned_dataset_address = \"../dataset/interim/past_dataset.csv\""
   ]
  },
  {
   "cell_type": "code",
   "execution_count": 3,
   "metadata": {},
   "outputs": [],
   "source": [
    "past_knowledge = pd.read_csv(cleaned_dataset_address, parse_dates=[\"datetime\"], converters = {'weather_code': str})"
   ]
  },
  {
   "cell_type": "code",
   "execution_count": 4,
   "metadata": {},
   "outputs": [
    {
     "name": "stdout",
     "output_type": "stream",
     "text": [
      "<class 'pandas.core.frame.DataFrame'>\n",
      "RangeIndex: 5939 entries, 0 to 5938\n",
      "Data columns (total 34 columns):\n",
      " #   Column                                         Non-Null Count  Dtype         \n",
      "---  ------                                         --------------  -----         \n",
      " 0   general_dam_occupancy_rate                     5939 non-null   float64       \n",
      " 1   datetime                                       5939 non-null   datetime64[ns]\n",
      " 2   weather_code                                   5939 non-null   object        \n",
      " 3   temperature_2m_max                             5939 non-null   float64       \n",
      " 4   temperature_2m_min                             5939 non-null   float64       \n",
      " 5   temperature_2m_mean                            5939 non-null   float64       \n",
      " 6   apparent_temperature_max                       5939 non-null   float64       \n",
      " 7   apparent_temperature_min                       5939 non-null   float64       \n",
      " 8   apparent_temperature_mean                      5939 non-null   float64       \n",
      " 9   daylight_duration                              5939 non-null   float64       \n",
      " 10  sunshine_duration                              5939 non-null   float64       \n",
      " 11  precipitation_sum                              5939 non-null   float64       \n",
      " 12  rain_sum                                       5939 non-null   float64       \n",
      " 13  precipitation_hours                            5939 non-null   float64       \n",
      " 14  wind_speed_10m_max                             5939 non-null   float64       \n",
      " 15  wind_gusts_10m_max                             5939 non-null   float64       \n",
      " 16  wind_direction_10m_dominant                    5939 non-null   float64       \n",
      " 17  shortwave_radiation_sum                        5939 non-null   float64       \n",
      " 18  et0_fao_evapotranspiration                     5939 non-null   float64       \n",
      " 19  river_discharge                                5939 non-null   float64       \n",
      " 20  climate_change_temperature_2m_mean             5939 non-null   float64       \n",
      " 21  climate_change_temperature_2m_max              5939 non-null   float64       \n",
      " 22  climate_change_temperature_2m_min              5939 non-null   float64       \n",
      " 23  climate_change_wind_speed_10m_mean             5939 non-null   float64       \n",
      " 24  climate_change_wind_speed_10m_max              5939 non-null   float64       \n",
      " 25  climate_change_relative_humidity_2m_mean       5939 non-null   float64       \n",
      " 26  climate_change_relative_humidity_2m_max        5939 non-null   float64       \n",
      " 27  climate_change_relative_humidity_2m_min        5939 non-null   float64       \n",
      " 28  climate_change_dew_point_2m_mean               5939 non-null   float64       \n",
      " 29  climate_change_dew_point_2m_min                5939 non-null   float64       \n",
      " 30  climate_change_dew_point_2m_max                5939 non-null   float64       \n",
      " 31  climate_change_precipitation_sum               5939 non-null   float64       \n",
      " 32  climate_change_pressure_msl_mean               5939 non-null   float64       \n",
      " 33  climate_change_et0_fao_evapotranspiration_sum  5939 non-null   float64       \n",
      "dtypes: datetime64[ns](1), float64(32), object(1)\n",
      "memory usage: 1.5+ MB\n"
     ]
    }
   ],
   "source": [
    "past_knowledge.info()"
   ]
  },
  {
   "cell_type": "code",
   "execution_count": 5,
   "metadata": {},
   "outputs": [],
   "source": [
    "def expand_datetime(df: DataFrame, column: str = \"datetime\") -> DataFrame:\n",
    "    return df.assign(\n",
    "        **{\n",
    "            \"year\": lambda a_df: a_df[column].dt.year,\n",
    "            \"month\": lambda a_df: a_df[column].dt.month,\n",
    "            \"day\": lambda a_df: a_df[column].dt.day,\n",
    "            \"hour\": lambda a_df: a_df[column].dt.hour,\n",
    "            \"day_of_year\": lambda a_df: a_df[column].dt.dayofyear,\n",
    "            \"week_of_year\": lambda a_df: a_df[column].dt.isocalendar().week,\n",
    "            \"quarter\": lambda a_df: a_df[column].dt.quarter,\n",
    "            # \"season\": lambda a_df: a_df[column].dt.month % 12 // 3 + 1,\n",
    "            \"is_weekend\": lambda a_df: (a_df[column].dt.weekday >= 5).map(\n",
    "                {True: 1, False: 0}\n",
    "            ),\n",
    "        }\n",
    "    )"
   ]
  },
  {
   "cell_type": "code",
   "execution_count": 6,
   "metadata": {},
   "outputs": [],
   "source": [
    "def add_rolling_window_features(\n",
    "    prediction_df: DataFrame,\n",
    "    past_knowledge: DataFrame,\n",
    "    window_size: int = 7,\n",
    "    fillna_with: Literal[\"ffill\", \"bfill\"] | None = \"ffill\",\n",
    ") -> DataFrame:\n",
    "    past_knowledge[\"datetime\"] = pd.to_datetime(past_knowledge[\"datetime\"])\n",
    "    prediction_df[\"datetime\"] = pd.to_datetime(prediction_df[\"datetime\"])\n",
    "\n",
    "    past_knowledge = past_knowledge.sort_values(\"datetime\")\n",
    "    prediction_df = prediction_df.sort_values(\"datetime\")\n",
    "\n",
    "    full_date_range = pd.date_range(\n",
    "        start=past_knowledge[\"datetime\"].min(),\n",
    "        end=prediction_df[\"datetime\"].max(),\n",
    "        freq=\"D\",\n",
    "    )\n",
    "    full_df = pd.DataFrame({\"datetime\": full_date_range}).merge(\n",
    "        past_knowledge, on=\"datetime\", how=\"left\"\n",
    "    )\n",
    "\n",
    "    columns_to_use = past_knowledge.select_dtypes(include=[\"number\"]).columns.tolist()\n",
    "\n",
    "    metrics = [\"mean\", \"std\", \"min\", \"max\", \"median\", \"var\"]\n",
    "\n",
    "    created_features = []\n",
    "    for col in columns_to_use:\n",
    "        for size in range(2, window_size + 1):\n",
    "            rolling_window_feature = (\n",
    "                full_df[col]\n",
    "                .rolling(window=size, min_periods=1)\n",
    "                .agg(metrics)\n",
    "                .rename(columns=lambda metric: f\"{col}_rw{size}_{metric}\")\n",
    "            )\n",
    "            created_features.append(rolling_window_feature)\n",
    "\n",
    "    window_df = pd.concat([full_df[\"datetime\"], *created_features], axis=1)\n",
    "\n",
    "    prediction_df = prediction_df.merge(\n",
    "        window_df,\n",
    "        on=\"datetime\",\n",
    "        how=\"left\",\n",
    "    )\n",
    "\n",
    "    if fillna_with == \"ffill\":\n",
    "        prediction_df = prediction_df.ffill()\n",
    "    elif fillna_with == \"bfill\":\n",
    "        prediction_df = prediction_df.bfill()\n",
    "\n",
    "    return prediction_df\n"
   ]
  },
  {
   "cell_type": "code",
   "execution_count": 7,
   "metadata": {},
   "outputs": [],
   "source": [
    "def add_lag_features(\n",
    "    prediction_df: DataFrame,\n",
    "    past_knowledge: DataFrame,\n",
    "    lag_size: int = 30,\n",
    "    fillna_with: Literal[\"ffill\", \"bfill\"] | None = \"ffill\",\n",
    "):\n",
    "    past_knowledge[\"datetime\"] = pd.to_datetime(past_knowledge[\"datetime\"])\n",
    "    prediction_df[\"datetime\"] = pd.to_datetime(prediction_df[\"datetime\"])\n",
    "\n",
    "    past_knowledge = past_knowledge.sort_values(\"datetime\")\n",
    "    prediction_df = prediction_df.sort_values(\"datetime\")\n",
    "\n",
    "    full_date_range = pd.date_range(\n",
    "        start=past_knowledge[\"datetime\"].min(),\n",
    "        end=prediction_df[\"datetime\"].max(),\n",
    "        freq=\"D\",\n",
    "    )\n",
    "    full_df = pd.DataFrame({\"datetime\": full_date_range})\n",
    "    full_df = full_df.merge(past_knowledge, on=\"datetime\", how=\"left\")\n",
    "\n",
    "    past_knowledge_columns_to_use = past_knowledge.select_dtypes(\n",
    "        include=\"number\"\n",
    "    ).columns.tolist()\n",
    "\n",
    "    created_features = []\n",
    "    for col in past_knowledge_columns_to_use:\n",
    "        for i in range(1, lag_size + 1):\n",
    "            created_col_name = f\"{col}_lag_{i}\"\n",
    "            created_features.append(full_df[col].shift(i).rename(created_col_name))\n",
    "\n",
    "    lags_df = pd.concat([full_df[\"datetime\"], *created_features], axis=1)\n",
    "\n",
    "    prediction_df = prediction_df.merge(\n",
    "        lags_df,\n",
    "        on=\"datetime\",\n",
    "        how=\"left\",\n",
    "    )\n",
    "\n",
    "    if fillna_with == \"ffill\":\n",
    "        prediction_df = prediction_df.ffill()\n",
    "    elif fillna_with == \"bfill\":\n",
    "        prediction_df = prediction_df.bfill()\n",
    "\n",
    "    return prediction_df\n"
   ]
  },
  {
   "cell_type": "code",
   "execution_count": 8,
   "metadata": {},
   "outputs": [],
   "source": [
    "def encode_cyclical(df: pd.DataFrame, cyclical_feature_names: dict[str, int]) -> DataFrame:\n",
    "    for col, max_val in cyclical_feature_names.items():\n",
    "        df[col + \"_sin\"] = np.sin(2 * np.pi * df[col] / max_val)\n",
    "        df[col + \"_cos\"] = np.cos(2 * np.pi * df[col] / max_val)\n",
    "    return df"
   ]
  },
  {
   "cell_type": "code",
   "execution_count": 9,
   "metadata": {},
   "outputs": [],
   "source": [
    "def drop_columns_with_same_values(df: DataFrame, threshold=0.9) -> DataFrame:\n",
    "    to_drop = [\n",
    "        col\n",
    "        for col in df.columns\n",
    "        if df[col].value_counts(normalize=True, dropna=False).values[0] >= threshold\n",
    "    ]\n",
    "    return df.drop(columns=to_drop)"
   ]
  },
  {
   "cell_type": "code",
   "execution_count": 10,
   "metadata": {},
   "outputs": [],
   "source": [
    "cyclical_features = {\n",
    "    \"month\": 12,\n",
    "    \"day\": 31,\n",
    "    \"day_of_year\": 365,\n",
    "    \"week_of_year\": 52,\n",
    "    \"quarter\": 4,\n",
    "    # \"season\": 4,\n",
    "    \"is_weekend\": 2,\n",
    "}"
   ]
  },
  {
   "cell_type": "code",
   "execution_count": 11,
   "metadata": {},
   "outputs": [],
   "source": [
    "prediction_df = (\n",
    "    DataFrame(index=pd.date_range(\"2021-04-07\", \"2021-05-07\", freq=\"D\"))\n",
    "    .reset_index()\n",
    "    .rename(columns={\"index\": \"datetime\"})\n",
    ")\n"
   ]
  },
  {
   "cell_type": "code",
   "execution_count": 12,
   "metadata": {},
   "outputs": [],
   "source": [
    "prediction_df = (\n",
    "    prediction_df\n",
    "    .sort_values(\"datetime\")\n",
    "    .pipe(add_lag_features, past_knowledge=past_knowledge, lag_size=30)\n",
    "    .pipe(add_rolling_window_features, past_knowledge=past_knowledge, window_size=30)\n",
    "    .pipe(drop_columns_with_same_values)\n",
    "    .pipe(expand_datetime)\n",
    "    .pipe(encode_cyclical, cyclical_feature_names=cyclical_features)\n",
    ")"
   ]
  },
  {
   "cell_type": "code",
   "execution_count": 13,
   "metadata": {},
   "outputs": [
    {
     "name": "stdout",
     "output_type": "stream",
     "text": [
      "<class 'pandas.core.frame.DataFrame'>\n",
      "RangeIndex: 31 entries, 0 to 30\n",
      "Columns: 5307 entries, datetime to is_weekend_cos\n",
      "dtypes: Float64(2), UInt32(1), datetime64[ns](1), float64(5296), int32(6), int64(1)\n",
      "memory usage: 1.3 MB\n"
     ]
    }
   ],
   "source": [
    "prediction_df.info()"
   ]
  },
  {
   "cell_type": "code",
   "execution_count": 14,
   "metadata": {},
   "outputs": [
    {
     "data": {
      "text/plain": [
       "Series([], dtype: int64)"
      ]
     },
     "execution_count": 14,
     "metadata": {},
     "output_type": "execute_result"
    }
   ],
   "source": [
    "prediction_df_null_counts = prediction_df.isna().sum()\n",
    "prediction_df_null_counts[prediction_df_null_counts > 0]"
   ]
  },
  {
   "cell_type": "code",
   "execution_count": 15,
   "metadata": {},
   "outputs": [
    {
     "data": {
      "application/vnd.microsoft.datawrangler.viewer.v0+json": {
       "columns": [
        {
         "name": "index",
         "rawType": "int64",
         "type": "integer"
        },
        {
         "name": "datetime",
         "rawType": "datetime64[ns]",
         "type": "datetime"
        },
        {
         "name": "general_dam_occupancy_rate_lag_5",
         "rawType": "float64",
         "type": "float"
        },
        {
         "name": "general_dam_occupancy_rate_lag_6",
         "rawType": "float64",
         "type": "float"
        },
        {
         "name": "general_dam_occupancy_rate_lag_7",
         "rawType": "float64",
         "type": "float"
        },
        {
         "name": "general_dam_occupancy_rate_lag_8",
         "rawType": "float64",
         "type": "float"
        },
        {
         "name": "general_dam_occupancy_rate_lag_9",
         "rawType": "float64",
         "type": "float"
        },
        {
         "name": "general_dam_occupancy_rate_lag_10",
         "rawType": "float64",
         "type": "float"
        },
        {
         "name": "general_dam_occupancy_rate_lag_11",
         "rawType": "float64",
         "type": "float"
        },
        {
         "name": "general_dam_occupancy_rate_lag_12",
         "rawType": "float64",
         "type": "float"
        },
        {
         "name": "general_dam_occupancy_rate_lag_13",
         "rawType": "float64",
         "type": "float"
        },
        {
         "name": "general_dam_occupancy_rate_lag_14",
         "rawType": "float64",
         "type": "float"
        },
        {
         "name": "general_dam_occupancy_rate_lag_15",
         "rawType": "float64",
         "type": "float"
        },
        {
         "name": "general_dam_occupancy_rate_lag_16",
         "rawType": "float64",
         "type": "float"
        },
        {
         "name": "general_dam_occupancy_rate_lag_17",
         "rawType": "float64",
         "type": "float"
        },
        {
         "name": "general_dam_occupancy_rate_lag_18",
         "rawType": "float64",
         "type": "float"
        },
        {
         "name": "general_dam_occupancy_rate_lag_19",
         "rawType": "float64",
         "type": "float"
        },
        {
         "name": "general_dam_occupancy_rate_lag_20",
         "rawType": "float64",
         "type": "float"
        },
        {
         "name": "general_dam_occupancy_rate_lag_21",
         "rawType": "float64",
         "type": "float"
        },
        {
         "name": "general_dam_occupancy_rate_lag_22",
         "rawType": "float64",
         "type": "float"
        },
        {
         "name": "general_dam_occupancy_rate_lag_23",
         "rawType": "float64",
         "type": "float"
        },
        {
         "name": "general_dam_occupancy_rate_lag_24",
         "rawType": "float64",
         "type": "float"
        },
        {
         "name": "general_dam_occupancy_rate_lag_25",
         "rawType": "float64",
         "type": "float"
        },
        {
         "name": "general_dam_occupancy_rate_lag_26",
         "rawType": "float64",
         "type": "float"
        },
        {
         "name": "general_dam_occupancy_rate_lag_27",
         "rawType": "float64",
         "type": "float"
        },
        {
         "name": "general_dam_occupancy_rate_lag_28",
         "rawType": "float64",
         "type": "float"
        },
        {
         "name": "general_dam_occupancy_rate_lag_29",
         "rawType": "float64",
         "type": "float"
        },
        {
         "name": "general_dam_occupancy_rate_lag_30",
         "rawType": "float64",
         "type": "float"
        },
        {
         "name": "temperature_2m_max_lag_5",
         "rawType": "float64",
         "type": "float"
        },
        {
         "name": "temperature_2m_max_lag_6",
         "rawType": "float64",
         "type": "float"
        },
        {
         "name": "temperature_2m_max_lag_7",
         "rawType": "float64",
         "type": "float"
        },
        {
         "name": "temperature_2m_max_lag_8",
         "rawType": "float64",
         "type": "float"
        },
        {
         "name": "temperature_2m_max_lag_9",
         "rawType": "float64",
         "type": "float"
        },
        {
         "name": "temperature_2m_max_lag_10",
         "rawType": "float64",
         "type": "float"
        },
        {
         "name": "temperature_2m_max_lag_11",
         "rawType": "float64",
         "type": "float"
        },
        {
         "name": "temperature_2m_max_lag_12",
         "rawType": "float64",
         "type": "float"
        },
        {
         "name": "temperature_2m_max_lag_13",
         "rawType": "float64",
         "type": "float"
        },
        {
         "name": "temperature_2m_max_lag_14",
         "rawType": "float64",
         "type": "float"
        },
        {
         "name": "temperature_2m_max_lag_15",
         "rawType": "float64",
         "type": "float"
        },
        {
         "name": "temperature_2m_max_lag_16",
         "rawType": "float64",
         "type": "float"
        },
        {
         "name": "temperature_2m_max_lag_17",
         "rawType": "float64",
         "type": "float"
        }
       ],
       "conversionMethod": "pd.DataFrame",
       "ref": "f323fbca-8efa-4143-ade5-ab1553711a3e",
       "rows": [
        [
         "0",
         "2021-04-07 00:00:00",
         "73.46",
         "73.18",
         "72.83",
         "72.24",
         "71.96",
         "71.56",
         "71.14",
         "70.63",
         "69.83",
         "68.64",
         "66.84",
         "65.21",
         "64.04",
         "63.74",
         "63.34",
         "63.03",
         "62.71",
         "62.4",
         "62.34",
         "62.23",
         "61.96",
         "61.64",
         "61.08",
         "60.71",
         "60.37",
         "59.93",
         "17.4955",
         "11.445499",
         "9.945499",
         "10.195499",
         "9.3455",
         "10.7955",
         "13.1455",
         "10.9955",
         "9.0455",
         "6.7454996",
         "5.3455",
         "7.3954997",
         "12.7455"
        ],
        [
         "1",
         "2021-04-08 00:00:00",
         "73.66",
         "73.46",
         "73.18",
         "72.83",
         "72.24",
         "71.96",
         "71.56",
         "71.14",
         "70.63",
         "69.83",
         "68.64",
         "66.84",
         "65.21",
         "64.04",
         "63.74",
         "63.34",
         "63.03",
         "62.71",
         "62.4",
         "62.34",
         "62.23",
         "61.96",
         "61.64",
         "61.08",
         "60.71",
         "60.37",
         "14.8955",
         "17.4955",
         "11.445499",
         "9.945499",
         "10.195499",
         "9.3455",
         "10.7955",
         "13.1455",
         "10.9955",
         "9.0455",
         "6.7454996",
         "5.3455",
         "7.3954997"
        ],
        [
         "2",
         "2021-04-09 00:00:00",
         "73.76",
         "73.66",
         "73.46",
         "73.18",
         "72.83",
         "72.24",
         "71.96",
         "71.56",
         "71.14",
         "70.63",
         "69.83",
         "68.64",
         "66.84",
         "65.21",
         "64.04",
         "63.74",
         "63.34",
         "63.03",
         "62.71",
         "62.4",
         "62.34",
         "62.23",
         "61.96",
         "61.64",
         "61.08",
         "60.71",
         "8.7455",
         "14.8955",
         "17.4955",
         "11.445499",
         "9.945499",
         "10.195499",
         "9.3455",
         "10.7955",
         "13.1455",
         "10.9955",
         "9.0455",
         "6.7454996",
         "5.3455"
        ],
        [
         "3",
         "2021-04-10 00:00:00",
         "74.7",
         "73.76",
         "73.66",
         "73.46",
         "73.18",
         "72.83",
         "72.24",
         "71.96",
         "71.56",
         "71.14",
         "70.63",
         "69.83",
         "68.64",
         "66.84",
         "65.21",
         "64.04",
         "63.74",
         "63.34",
         "63.03",
         "62.71",
         "62.4",
         "62.34",
         "62.23",
         "61.96",
         "61.64",
         "61.08",
         "18.1455",
         "8.7455",
         "14.8955",
         "17.4955",
         "11.445499",
         "9.945499",
         "10.195499",
         "9.3455",
         "10.7955",
         "13.1455",
         "10.9955",
         "9.0455",
         "6.7454996"
        ],
        [
         "4",
         "2021-04-11 00:00:00",
         "75.88",
         "74.7",
         "73.76",
         "73.66",
         "73.46",
         "73.18",
         "72.83",
         "72.24",
         "71.96",
         "71.56",
         "71.14",
         "70.63",
         "69.83",
         "68.64",
         "66.84",
         "65.21",
         "64.04",
         "63.74",
         "63.34",
         "63.03",
         "62.71",
         "62.4",
         "62.34",
         "62.23",
         "61.96",
         "61.64",
         "19.0455",
         "18.1455",
         "8.7455",
         "14.8955",
         "17.4955",
         "11.445499",
         "9.945499",
         "10.195499",
         "9.3455",
         "10.7955",
         "13.1455",
         "10.9955",
         "9.0455"
        ]
       ],
       "shape": {
        "columns": 40,
        "rows": 5
       }
      },
      "text/html": [
       "<div>\n",
       "<style scoped>\n",
       "    .dataframe tbody tr th:only-of-type {\n",
       "        vertical-align: middle;\n",
       "    }\n",
       "\n",
       "    .dataframe tbody tr th {\n",
       "        vertical-align: top;\n",
       "    }\n",
       "\n",
       "    .dataframe thead th {\n",
       "        text-align: right;\n",
       "    }\n",
       "</style>\n",
       "<table border=\"1\" class=\"dataframe\">\n",
       "  <thead>\n",
       "    <tr style=\"text-align: right;\">\n",
       "      <th></th>\n",
       "      <th>datetime</th>\n",
       "      <th>general_dam_occupancy_rate_lag_5</th>\n",
       "      <th>general_dam_occupancy_rate_lag_6</th>\n",
       "      <th>general_dam_occupancy_rate_lag_7</th>\n",
       "      <th>general_dam_occupancy_rate_lag_8</th>\n",
       "      <th>general_dam_occupancy_rate_lag_9</th>\n",
       "      <th>general_dam_occupancy_rate_lag_10</th>\n",
       "      <th>general_dam_occupancy_rate_lag_11</th>\n",
       "      <th>general_dam_occupancy_rate_lag_12</th>\n",
       "      <th>general_dam_occupancy_rate_lag_13</th>\n",
       "      <th>...</th>\n",
       "      <th>temperature_2m_max_lag_8</th>\n",
       "      <th>temperature_2m_max_lag_9</th>\n",
       "      <th>temperature_2m_max_lag_10</th>\n",
       "      <th>temperature_2m_max_lag_11</th>\n",
       "      <th>temperature_2m_max_lag_12</th>\n",
       "      <th>temperature_2m_max_lag_13</th>\n",
       "      <th>temperature_2m_max_lag_14</th>\n",
       "      <th>temperature_2m_max_lag_15</th>\n",
       "      <th>temperature_2m_max_lag_16</th>\n",
       "      <th>temperature_2m_max_lag_17</th>\n",
       "    </tr>\n",
       "  </thead>\n",
       "  <tbody>\n",
       "    <tr>\n",
       "      <th>0</th>\n",
       "      <td>2021-04-07</td>\n",
       "      <td>73.46</td>\n",
       "      <td>73.18</td>\n",
       "      <td>72.83</td>\n",
       "      <td>72.24</td>\n",
       "      <td>71.96</td>\n",
       "      <td>71.56</td>\n",
       "      <td>71.14</td>\n",
       "      <td>70.63</td>\n",
       "      <td>69.83</td>\n",
       "      <td>...</td>\n",
       "      <td>10.195499</td>\n",
       "      <td>9.345500</td>\n",
       "      <td>10.795500</td>\n",
       "      <td>13.145500</td>\n",
       "      <td>10.995500</td>\n",
       "      <td>9.0455</td>\n",
       "      <td>6.7455</td>\n",
       "      <td>5.3455</td>\n",
       "      <td>7.3955</td>\n",
       "      <td>12.7455</td>\n",
       "    </tr>\n",
       "    <tr>\n",
       "      <th>1</th>\n",
       "      <td>2021-04-08</td>\n",
       "      <td>73.66</td>\n",
       "      <td>73.46</td>\n",
       "      <td>73.18</td>\n",
       "      <td>72.83</td>\n",
       "      <td>72.24</td>\n",
       "      <td>71.96</td>\n",
       "      <td>71.56</td>\n",
       "      <td>71.14</td>\n",
       "      <td>70.63</td>\n",
       "      <td>...</td>\n",
       "      <td>9.945499</td>\n",
       "      <td>10.195499</td>\n",
       "      <td>9.345500</td>\n",
       "      <td>10.795500</td>\n",
       "      <td>13.145500</td>\n",
       "      <td>10.9955</td>\n",
       "      <td>9.0455</td>\n",
       "      <td>6.7455</td>\n",
       "      <td>5.3455</td>\n",
       "      <td>7.3955</td>\n",
       "    </tr>\n",
       "    <tr>\n",
       "      <th>2</th>\n",
       "      <td>2021-04-09</td>\n",
       "      <td>73.76</td>\n",
       "      <td>73.66</td>\n",
       "      <td>73.46</td>\n",
       "      <td>73.18</td>\n",
       "      <td>72.83</td>\n",
       "      <td>72.24</td>\n",
       "      <td>71.96</td>\n",
       "      <td>71.56</td>\n",
       "      <td>71.14</td>\n",
       "      <td>...</td>\n",
       "      <td>11.445499</td>\n",
       "      <td>9.945499</td>\n",
       "      <td>10.195499</td>\n",
       "      <td>9.345500</td>\n",
       "      <td>10.795500</td>\n",
       "      <td>13.1455</td>\n",
       "      <td>10.9955</td>\n",
       "      <td>9.0455</td>\n",
       "      <td>6.7455</td>\n",
       "      <td>5.3455</td>\n",
       "    </tr>\n",
       "    <tr>\n",
       "      <th>3</th>\n",
       "      <td>2021-04-10</td>\n",
       "      <td>74.70</td>\n",
       "      <td>73.76</td>\n",
       "      <td>73.66</td>\n",
       "      <td>73.46</td>\n",
       "      <td>73.18</td>\n",
       "      <td>72.83</td>\n",
       "      <td>72.24</td>\n",
       "      <td>71.96</td>\n",
       "      <td>71.56</td>\n",
       "      <td>...</td>\n",
       "      <td>17.495500</td>\n",
       "      <td>11.445499</td>\n",
       "      <td>9.945499</td>\n",
       "      <td>10.195499</td>\n",
       "      <td>9.345500</td>\n",
       "      <td>10.7955</td>\n",
       "      <td>13.1455</td>\n",
       "      <td>10.9955</td>\n",
       "      <td>9.0455</td>\n",
       "      <td>6.7455</td>\n",
       "    </tr>\n",
       "    <tr>\n",
       "      <th>4</th>\n",
       "      <td>2021-04-11</td>\n",
       "      <td>75.88</td>\n",
       "      <td>74.70</td>\n",
       "      <td>73.76</td>\n",
       "      <td>73.66</td>\n",
       "      <td>73.46</td>\n",
       "      <td>73.18</td>\n",
       "      <td>72.83</td>\n",
       "      <td>72.24</td>\n",
       "      <td>71.96</td>\n",
       "      <td>...</td>\n",
       "      <td>14.895500</td>\n",
       "      <td>17.495500</td>\n",
       "      <td>11.445499</td>\n",
       "      <td>9.945499</td>\n",
       "      <td>10.195499</td>\n",
       "      <td>9.3455</td>\n",
       "      <td>10.7955</td>\n",
       "      <td>13.1455</td>\n",
       "      <td>10.9955</td>\n",
       "      <td>9.0455</td>\n",
       "    </tr>\n",
       "  </tbody>\n",
       "</table>\n",
       "<p>5 rows × 40 columns</p>\n",
       "</div>"
      ],
      "text/plain": [
       "    datetime  general_dam_occupancy_rate_lag_5  \\\n",
       "0 2021-04-07                             73.46   \n",
       "1 2021-04-08                             73.66   \n",
       "2 2021-04-09                             73.76   \n",
       "3 2021-04-10                             74.70   \n",
       "4 2021-04-11                             75.88   \n",
       "\n",
       "   general_dam_occupancy_rate_lag_6  general_dam_occupancy_rate_lag_7  \\\n",
       "0                             73.18                             72.83   \n",
       "1                             73.46                             73.18   \n",
       "2                             73.66                             73.46   \n",
       "3                             73.76                             73.66   \n",
       "4                             74.70                             73.76   \n",
       "\n",
       "   general_dam_occupancy_rate_lag_8  general_dam_occupancy_rate_lag_9  \\\n",
       "0                             72.24                             71.96   \n",
       "1                             72.83                             72.24   \n",
       "2                             73.18                             72.83   \n",
       "3                             73.46                             73.18   \n",
       "4                             73.66                             73.46   \n",
       "\n",
       "   general_dam_occupancy_rate_lag_10  general_dam_occupancy_rate_lag_11  \\\n",
       "0                              71.56                              71.14   \n",
       "1                              71.96                              71.56   \n",
       "2                              72.24                              71.96   \n",
       "3                              72.83                              72.24   \n",
       "4                              73.18                              72.83   \n",
       "\n",
       "   general_dam_occupancy_rate_lag_12  general_dam_occupancy_rate_lag_13  ...  \\\n",
       "0                              70.63                              69.83  ...   \n",
       "1                              71.14                              70.63  ...   \n",
       "2                              71.56                              71.14  ...   \n",
       "3                              71.96                              71.56  ...   \n",
       "4                              72.24                              71.96  ...   \n",
       "\n",
       "   temperature_2m_max_lag_8  temperature_2m_max_lag_9  \\\n",
       "0                 10.195499                  9.345500   \n",
       "1                  9.945499                 10.195499   \n",
       "2                 11.445499                  9.945499   \n",
       "3                 17.495500                 11.445499   \n",
       "4                 14.895500                 17.495500   \n",
       "\n",
       "   temperature_2m_max_lag_10  temperature_2m_max_lag_11  \\\n",
       "0                  10.795500                  13.145500   \n",
       "1                   9.345500                  10.795500   \n",
       "2                  10.195499                   9.345500   \n",
       "3                   9.945499                  10.195499   \n",
       "4                  11.445499                   9.945499   \n",
       "\n",
       "   temperature_2m_max_lag_12  temperature_2m_max_lag_13  \\\n",
       "0                  10.995500                     9.0455   \n",
       "1                  13.145500                    10.9955   \n",
       "2                  10.795500                    13.1455   \n",
       "3                   9.345500                    10.7955   \n",
       "4                  10.195499                     9.3455   \n",
       "\n",
       "   temperature_2m_max_lag_14  temperature_2m_max_lag_15  \\\n",
       "0                     6.7455                     5.3455   \n",
       "1                     9.0455                     6.7455   \n",
       "2                    10.9955                     9.0455   \n",
       "3                    13.1455                    10.9955   \n",
       "4                    10.7955                    13.1455   \n",
       "\n",
       "   temperature_2m_max_lag_16  temperature_2m_max_lag_17  \n",
       "0                     7.3955                    12.7455  \n",
       "1                     5.3455                     7.3955  \n",
       "2                     6.7455                     5.3455  \n",
       "3                     9.0455                     6.7455  \n",
       "4                    10.9955                     9.0455  \n",
       "\n",
       "[5 rows x 40 columns]"
      ]
     },
     "execution_count": 15,
     "metadata": {},
     "output_type": "execute_result"
    }
   ],
   "source": [
    "prediction_df.iloc[:, : 40].head(5)"
   ]
  },
  {
   "cell_type": "code",
   "execution_count": 16,
   "metadata": {},
   "outputs": [],
   "source": [
    "series = pd.Series()"
   ]
  },
  {
   "cell_type": "code",
   "execution_count": 21,
   "metadata": {},
   "outputs": [
    {
     "data": {
      "text/plain": [
       "DatetimeIndex(['2021-04-07', '2021-04-08', '2021-04-09', '2021-04-10',\n",
       "               '2021-04-11', '2021-04-12', '2021-04-13', '2021-04-14',\n",
       "               '2021-04-15', '2021-04-16', '2021-04-17', '2021-04-18',\n",
       "               '2021-04-19', '2021-04-20', '2021-04-21', '2021-04-22',\n",
       "               '2021-04-23', '2021-04-24', '2021-04-25', '2021-04-26',\n",
       "               '2021-04-27', '2021-04-28', '2021-04-29', '2021-04-30',\n",
       "               '2021-05-01', '2021-05-02', '2021-05-03', '2021-05-04',\n",
       "               '2021-05-05', '2021-05-06', '2021-05-07'],\n",
       "              dtype='datetime64[ns]', freq='D')"
      ]
     },
     "execution_count": 21,
     "metadata": {},
     "output_type": "execute_result"
    }
   ],
   "source": [
    "pd.date_range(\"2021-04-07\", \"2021-05-07\", freq=\"D\")"
   ]
  },
  {
   "cell_type": "code",
   "execution_count": 39,
   "metadata": {},
   "outputs": [],
   "source": [
    "a = past_knowledge.copy()"
   ]
  },
  {
   "cell_type": "code",
   "execution_count": 40,
   "metadata": {},
   "outputs": [],
   "source": [
    "a = a.set_index(\"datetime\")"
   ]
  },
  {
   "cell_type": "code",
   "execution_count": null,
   "metadata": {},
   "outputs": [],
   "source": [
    "for date in a.index:\n",
    "    delta = date - pd.offsets.MonthBegin(1)\n",
    "    train = a.loc[delta:date-pd.offsets.Day(1)]\n",
    "    valid = a.loc[date:date+pd.offsets.MonthEnd(1)]"
   ]
  },
  {
   "cell_type": "code",
   "execution_count": 43,
   "metadata": {},
   "outputs": [
    {
     "data": {
      "application/vnd.microsoft.datawrangler.viewer.v0+json": {
       "columns": [
        {
         "name": "datetime",
         "rawType": "datetime64[ns]",
         "type": "datetime"
        },
        {
         "name": "general_dam_occupancy_rate",
         "rawType": "float64",
         "type": "float"
        },
        {
         "name": "weather_code",
         "rawType": "object",
         "type": "string"
        },
        {
         "name": "temperature_2m_max",
         "rawType": "float64",
         "type": "float"
        },
        {
         "name": "temperature_2m_min",
         "rawType": "float64",
         "type": "float"
        },
        {
         "name": "temperature_2m_mean",
         "rawType": "float64",
         "type": "float"
        },
        {
         "name": "apparent_temperature_max",
         "rawType": "float64",
         "type": "float"
        },
        {
         "name": "apparent_temperature_min",
         "rawType": "float64",
         "type": "float"
        },
        {
         "name": "apparent_temperature_mean",
         "rawType": "float64",
         "type": "float"
        },
        {
         "name": "daylight_duration",
         "rawType": "float64",
         "type": "float"
        },
        {
         "name": "sunshine_duration",
         "rawType": "float64",
         "type": "float"
        },
        {
         "name": "precipitation_sum",
         "rawType": "float64",
         "type": "float"
        },
        {
         "name": "rain_sum",
         "rawType": "float64",
         "type": "float"
        },
        {
         "name": "precipitation_hours",
         "rawType": "float64",
         "type": "float"
        },
        {
         "name": "wind_speed_10m_max",
         "rawType": "float64",
         "type": "float"
        },
        {
         "name": "wind_gusts_10m_max",
         "rawType": "float64",
         "type": "float"
        },
        {
         "name": "wind_direction_10m_dominant",
         "rawType": "float64",
         "type": "float"
        },
        {
         "name": "shortwave_radiation_sum",
         "rawType": "float64",
         "type": "float"
        },
        {
         "name": "et0_fao_evapotranspiration",
         "rawType": "float64",
         "type": "float"
        },
        {
         "name": "river_discharge",
         "rawType": "float64",
         "type": "float"
        },
        {
         "name": "climate_change_temperature_2m_mean",
         "rawType": "float64",
         "type": "float"
        },
        {
         "name": "climate_change_temperature_2m_max",
         "rawType": "float64",
         "type": "float"
        },
        {
         "name": "climate_change_temperature_2m_min",
         "rawType": "float64",
         "type": "float"
        },
        {
         "name": "climate_change_wind_speed_10m_mean",
         "rawType": "float64",
         "type": "float"
        },
        {
         "name": "climate_change_wind_speed_10m_max",
         "rawType": "float64",
         "type": "float"
        },
        {
         "name": "climate_change_relative_humidity_2m_mean",
         "rawType": "float64",
         "type": "float"
        },
        {
         "name": "climate_change_relative_humidity_2m_max",
         "rawType": "float64",
         "type": "float"
        },
        {
         "name": "climate_change_relative_humidity_2m_min",
         "rawType": "float64",
         "type": "float"
        },
        {
         "name": "climate_change_dew_point_2m_mean",
         "rawType": "float64",
         "type": "float"
        },
        {
         "name": "climate_change_dew_point_2m_min",
         "rawType": "float64",
         "type": "float"
        },
        {
         "name": "climate_change_dew_point_2m_max",
         "rawType": "float64",
         "type": "float"
        },
        {
         "name": "climate_change_precipitation_sum",
         "rawType": "float64",
         "type": "float"
        },
        {
         "name": "climate_change_pressure_msl_mean",
         "rawType": "float64",
         "type": "float"
        },
        {
         "name": "climate_change_et0_fao_evapotranspiration_sum",
         "rawType": "float64",
         "type": "float"
        }
       ],
       "conversionMethod": "pd.DataFrame",
       "ref": "96b1b388-568c-4277-bde0-1ddd2c55d47c",
       "rows": [
        [
         "2021-04-06 00:00:00",
         "75.88",
         "53.0",
         "19.0455",
         "8.1455",
         "14.087169",
         "17.12777",
         "3.7007232",
         "11.177331",
         "46667.355",
         "42191.03",
         "1.0",
         "1.0",
         "6.0",
         "30.173496",
         "53.639996",
         "248.04117",
         "21.28",
         "3.2731962",
         "1.0941124",
         "8.147371",
         "11.601972",
         "5.2488275",
         "8.0458555",
         "13.493123",
         "74.78501",
         "87.00573",
         "62.43915",
         "4.169358",
         "1.6218177",
         "6.3477397",
         "0.22038391",
         "1029.3667",
         "2.7141848"
        ]
       ],
       "shape": {
        "columns": 33,
        "rows": 1
       }
      },
      "text/html": [
       "<div>\n",
       "<style scoped>\n",
       "    .dataframe tbody tr th:only-of-type {\n",
       "        vertical-align: middle;\n",
       "    }\n",
       "\n",
       "    .dataframe tbody tr th {\n",
       "        vertical-align: top;\n",
       "    }\n",
       "\n",
       "    .dataframe thead th {\n",
       "        text-align: right;\n",
       "    }\n",
       "</style>\n",
       "<table border=\"1\" class=\"dataframe\">\n",
       "  <thead>\n",
       "    <tr style=\"text-align: right;\">\n",
       "      <th></th>\n",
       "      <th>general_dam_occupancy_rate</th>\n",
       "      <th>weather_code</th>\n",
       "      <th>temperature_2m_max</th>\n",
       "      <th>temperature_2m_min</th>\n",
       "      <th>temperature_2m_mean</th>\n",
       "      <th>apparent_temperature_max</th>\n",
       "      <th>apparent_temperature_min</th>\n",
       "      <th>apparent_temperature_mean</th>\n",
       "      <th>daylight_duration</th>\n",
       "      <th>sunshine_duration</th>\n",
       "      <th>...</th>\n",
       "      <th>climate_change_wind_speed_10m_max</th>\n",
       "      <th>climate_change_relative_humidity_2m_mean</th>\n",
       "      <th>climate_change_relative_humidity_2m_max</th>\n",
       "      <th>climate_change_relative_humidity_2m_min</th>\n",
       "      <th>climate_change_dew_point_2m_mean</th>\n",
       "      <th>climate_change_dew_point_2m_min</th>\n",
       "      <th>climate_change_dew_point_2m_max</th>\n",
       "      <th>climate_change_precipitation_sum</th>\n",
       "      <th>climate_change_pressure_msl_mean</th>\n",
       "      <th>climate_change_et0_fao_evapotranspiration_sum</th>\n",
       "    </tr>\n",
       "    <tr>\n",
       "      <th>datetime</th>\n",
       "      <th></th>\n",
       "      <th></th>\n",
       "      <th></th>\n",
       "      <th></th>\n",
       "      <th></th>\n",
       "      <th></th>\n",
       "      <th></th>\n",
       "      <th></th>\n",
       "      <th></th>\n",
       "      <th></th>\n",
       "      <th></th>\n",
       "      <th></th>\n",
       "      <th></th>\n",
       "      <th></th>\n",
       "      <th></th>\n",
       "      <th></th>\n",
       "      <th></th>\n",
       "      <th></th>\n",
       "      <th></th>\n",
       "      <th></th>\n",
       "      <th></th>\n",
       "    </tr>\n",
       "  </thead>\n",
       "  <tbody>\n",
       "    <tr>\n",
       "      <th>2021-04-06</th>\n",
       "      <td>75.88</td>\n",
       "      <td>53.0</td>\n",
       "      <td>19.0455</td>\n",
       "      <td>8.1455</td>\n",
       "      <td>14.087169</td>\n",
       "      <td>17.12777</td>\n",
       "      <td>3.700723</td>\n",
       "      <td>11.177331</td>\n",
       "      <td>46667.355</td>\n",
       "      <td>42191.03</td>\n",
       "      <td>...</td>\n",
       "      <td>13.493123</td>\n",
       "      <td>74.78501</td>\n",
       "      <td>87.00573</td>\n",
       "      <td>62.43915</td>\n",
       "      <td>4.169358</td>\n",
       "      <td>1.621818</td>\n",
       "      <td>6.34774</td>\n",
       "      <td>0.220384</td>\n",
       "      <td>1029.3667</td>\n",
       "      <td>2.714185</td>\n",
       "    </tr>\n",
       "  </tbody>\n",
       "</table>\n",
       "<p>1 rows × 33 columns</p>\n",
       "</div>"
      ],
      "text/plain": [
       "            general_dam_occupancy_rate weather_code  temperature_2m_max  \\\n",
       "datetime                                                                  \n",
       "2021-04-06                       75.88         53.0             19.0455   \n",
       "\n",
       "            temperature_2m_min  temperature_2m_mean  apparent_temperature_max  \\\n",
       "datetime                                                                        \n",
       "2021-04-06              8.1455            14.087169                  17.12777   \n",
       "\n",
       "            apparent_temperature_min  apparent_temperature_mean  \\\n",
       "datetime                                                          \n",
       "2021-04-06                  3.700723                  11.177331   \n",
       "\n",
       "            daylight_duration  sunshine_duration  ...  \\\n",
       "datetime                                          ...   \n",
       "2021-04-06          46667.355           42191.03  ...   \n",
       "\n",
       "            climate_change_wind_speed_10m_max  \\\n",
       "datetime                                        \n",
       "2021-04-06                          13.493123   \n",
       "\n",
       "            climate_change_relative_humidity_2m_mean  \\\n",
       "datetime                                               \n",
       "2021-04-06                                  74.78501   \n",
       "\n",
       "            climate_change_relative_humidity_2m_max  \\\n",
       "datetime                                              \n",
       "2021-04-06                                 87.00573   \n",
       "\n",
       "            climate_change_relative_humidity_2m_min  \\\n",
       "datetime                                              \n",
       "2021-04-06                                 62.43915   \n",
       "\n",
       "            climate_change_dew_point_2m_mean  climate_change_dew_point_2m_min  \\\n",
       "datetime                                                                        \n",
       "2021-04-06                          4.169358                         1.621818   \n",
       "\n",
       "            climate_change_dew_point_2m_max  climate_change_precipitation_sum  \\\n",
       "datetime                                                                        \n",
       "2021-04-06                          6.34774                          0.220384   \n",
       "\n",
       "            climate_change_pressure_msl_mean  \\\n",
       "datetime                                       \n",
       "2021-04-06                         1029.3667   \n",
       "\n",
       "            climate_change_et0_fao_evapotranspiration_sum  \n",
       "datetime                                                   \n",
       "2021-04-06                                       2.714185  \n",
       "\n",
       "[1 rows x 33 columns]"
      ]
     },
     "execution_count": 43,
     "metadata": {},
     "output_type": "execute_result"
    }
   ],
   "source": [
    "valid"
   ]
  }
 ],
 "metadata": {
  "kernelspec": {
   "display_name": ".venv",
   "language": "python",
   "name": "python3"
  },
  "language_info": {
   "codemirror_mode": {
    "name": "ipython",
    "version": 3
   },
   "file_extension": ".py",
   "mimetype": "text/x-python",
   "name": "python",
   "nbconvert_exporter": "python",
   "pygments_lexer": "ipython3",
   "version": "3.11.8"
  }
 },
 "nbformat": 4,
 "nbformat_minor": 2
}
