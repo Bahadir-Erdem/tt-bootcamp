{
 "cells": [
  {
   "cell_type": "markdown",
   "metadata": {},
   "source": []
  },
  {
   "cell_type": "code",
   "execution_count": 2,
   "metadata": {},
   "outputs": [],
   "source": [
    "import json\n",
    "import duckdb"
   ]
  },
  {
   "cell_type": "markdown",
   "metadata": {},
   "source": [
    "## Yapılacaklar\n",
    "\n",
    "* Metriğinizi iyi belirleyin. (Unutmayın ki her ay sadece abone kitlesinden 1000'de birlik kısmı kaybediyoruz.)\n",
    "\n",
    "* Modellemenizi gerçekleştirin. Tercihen yorumlaması ve açıklaması kolay olan bir model olsun. Regülasyon sağlayan kurum açıklanması zor modellerde bizi zorlayacaktır.\n",
    "\n",
    "* Yapacağınız sunumda iş birimimiz olacak. En basit bir şekilde onlara çözümümüzü aktarmamız gerekiyor.\n",
    "\n",
    "## Veri Alanları\n",
    "\n",
    "* **id**: Müşteri IDsi\n",
    "* **age**: Müşterinin yaşı\n",
    "* **tenure**: Müşterinin operatörde geçirdiği toplam süre (ay cinsinden)\n",
    "* **service_type**: Ön Ödemeli, Peşin Ödemeli veya Geniş Bant internet müşterisi\n",
    "* **avg_call_duration**: Ortalama sesli görüşme süresi (saniye)\n",
    "* **data_usage**: GB Upload + Download\n",
    "* **roaming_usage**: Ortalama roaming sesli görüşme süresi\n",
    "* **monthly_charge**: Aylık ortalama fatura\n",
    "* **overdue_payments**: Ödemesi geçen fatura adedi\n",
    "* **auto_payment**: Otomatik ödeme talimatı\n",
    "* **avg_top_up_count**: Ön yüklemeli abone için aylık yükleme sayısı ortalaması\n",
    "* **call_drops**: Şebekede yaşadığı sesli görüşme kesilmesi\n",
    "* **customer_support_calls**: Toplam çağrı merkezi araması\n",
    "* **satisfaction_score**: Müşteri çağrı merkezi değerlendirme skoru \n",
    "* **apps**: Müşterinin kullandığı diğer servislerimiz\n",
    "    * İzleGo \n",
    "    * RitimGo\n",
    "    * CüzdanX\n",
    "    * HızlıPazar\n",
    "    * Konuşalım\n",
    "* **churn**: bool"
   ]
  },
  {
   "cell_type": "code",
   "execution_count": null,
   "metadata": {},
   "outputs": [],
   "source": []
  },
  {
   "cell_type": "code",
   "execution_count": 3,
   "metadata": {},
   "outputs": [],
   "source": [
    "db_path = \"../Data/capstone.db\""
   ]
  },
  {
   "cell_type": "code",
   "execution_count": 4,
   "metadata": {},
   "outputs": [],
   "source": [
    "with duckdb.connect(db_path) as con:\n",
    "    con.execute(\"create table if not exists churn as select * from read_json('../Data/*.jsonl')\")"
   ]
  },
  {
   "cell_type": "code",
   "execution_count": 5,
   "metadata": {},
   "outputs": [
    {
     "name": "stdout",
     "output_type": "stream",
     "text": [
      "┌──────────────────────────────────────┬───────┬────────┬──────────────┬───────────────────┬────────────┬───────────────┬────────────────┬──────────────────┬──────────────┬──────────────────┬────────────┬────────────────────────┬────────────────────┬─────────────┬─────────┐\n",
      "│                  id                  │  age  │ tenure │ service_type │ avg_call_duration │ data_usage │ roaming_usage │ monthly_charge │ overdue_payments │ auto_payment │ avg_top_up_count │ call_drops │ customer_support_calls │ satisfaction_score │    apps     │  churn  │\n",
      "│                 uuid                 │ int64 │ int64  │   varchar    │      double       │   double   │    double     │     double     │      int64       │   boolean    │      int64       │   int64    │         int64          │       double       │  varchar[]  │ boolean │\n",
      "├──────────────────────────────────────┼───────┼────────┼──────────────┼───────────────────┼────────────┼───────────────┼────────────────┼──────────────────┼──────────────┼──────────────────┼────────────┼────────────────────────┼────────────────────┼─────────────┼─────────┤\n",
      "│ 51893f29-e6c2-45d3-807c-e1280d3d7b90 │    18 │     53 │ Prepaid      │            106.74 │     139.72 │         47.31 │          59.45 │                0 │ NULL         │               25 │         18 │                     13 │               1.34 │ []          │ false   │\n",
      "│ a568caf1-d851-4847-a9f5-20ef9017fa92 │    26 │     15 │ Prepaid      │             31.55 │      12.14 │         21.52 │        1221.65 │                0 │ NULL         │               51 │          8 │                      3 │               2.57 │ []          │ false   │\n",
      "│ c611bf0e-a013-44dc-9939-bd33dab16d14 │    32 │    152 │ Postpaid     │             30.64 │      10.17 │         31.11 │        1170.45 │                0 │ true         │                0 │         13 │                     10 │               8.02 │ []          │ false   │\n",
      "│ 9284b7b8-a4ef-49a7-9fa4-333954491f57 │    33 │     35 │ Prepaid      │              NULL │       NULL │         36.03 │        2418.91 │                0 │ NULL         │               19 │          7 │                     11 │               5.96 │ [RitimGo]   │ false   │\n",
      "│ e205b674-a6e6-43c5-aed7-9497c37c5c82 │    18 │    243 │ Prepaid      │             85.62 │     164.79 │          46.4 │        1518.19 │                0 │ NULL         │               99 │         15 │                      6 │               8.29 │ []          │ false   │\n",
      "│ edad13f9-5abe-4950-9743-adbbb6980450 │    37 │    252 │ Postpaid     │              1.24 │      82.44 │         39.39 │         176.95 │                0 │ false        │                0 │         17 │                     10 │               8.44 │ [Konuşalım] │ false   │\n",
      "│ 23ebc43d-cca6-4833-88ab-a0548b773b20 │    20 │     91 │ Prepaid      │             41.05 │       1.66 │         44.08 │        2434.57 │                0 │ NULL         │               53 │          9 │                      6 │               2.18 │ []          │ false   │\n",
      "│ 339d710f-104b-4db0-b5e6-5317f4a0bf9d │    36 │    196 │ Postpaid     │              48.4 │     183.05 │         41.94 │         953.86 │                1 │ false        │                0 │          6 │                     10 │               3.48 │ [Konuşalım] │ false   │\n",
      "│ 5b237558-b541-4e52-8a46-5b746e28d1d0 │    47 │    241 │ Broadband    │              NULL │      17.89 │          NULL │         303.15 │                1 │ true         │                0 │       NULL │                     17 │               4.63 │ []          │ false   │\n",
      "│ db6bf9ac-62b5-4942-aab0-cf52ce99c2f3 │    19 │     88 │ Prepaid      │              92.4 │      41.51 │         39.13 │        2315.02 │                0 │ NULL         │               54 │         10 │                     13 │               3.09 │ []          │ false   │\n",
      "│                  ·                   │     · │      · │    ·         │                ·  │        ·   │           ·   │           ·    │                · │  ·           │                · │          · │                      · │                 ·  │ ·           │   ·     │\n",
      "│                  ·                   │     · │      · │    ·         │                ·  │        ·   │           ·   │           ·    │                · │  ·           │                · │          · │                      · │                 ·  │ ·           │   ·     │\n",
      "│                  ·                   │     · │      · │    ·         │                ·  │        ·   │           ·   │           ·    │                · │  ·           │                · │          · │                      · │                 ·  │ ·           │   ·     │\n",
      "│ 2305a06c-e351-497c-a4e3-7c05185a370b │    18 │     92 │ Prepaid      │             91.95 │     112.61 │         45.07 │        1691.37 │                0 │ NULL         │               68 │          6 │                      5 │               8.96 │ []          │ false   │\n",
      "│ 198a672b-40a3-4b9b-a623-20d3b446d24f │    29 │     17 │ Broadband    │              NULL │      25.53 │          NULL │         458.55 │                3 │ false        │                0 │       NULL │                      1 │               6.96 │ [RitimGo]   │ false   │\n",
      "│ 6a25e86a-024c-4122-8cf5-a7fa7d327006 │    27 │    168 │ Postpaid     │             96.43 │      27.19 │         38.74 │         744.35 │                0 │ true         │                0 │          6 │                     14 │               8.62 │ []          │ false   │\n",
      "│ 85432802-8f9f-4a0d-86da-bf9a90a6e991 │    38 │    164 │ Postpaid     │             52.92 │     185.54 │         23.37 │         197.11 │                2 │ false        │                0 │          1 │                      3 │               9.67 │ []          │ false   │\n",
      "│ 7b1e9327-4b78-493d-a4be-59eae25a5663 │    25 │    128 │ Broadband    │              NULL │     181.21 │          NULL │         409.53 │                2 │ false        │                0 │       NULL │                     16 │               2.04 │ []          │ false   │\n",
      "│ 992429b5-dfb1-46c2-9be5-b795f1927ac5 │    18 │     82 │ Postpaid     │            118.38 │      26.43 │          1.49 │         472.71 │                1 │ true         │                0 │         11 │                     14 │                3.5 │ []          │ false   │\n",
      "│ bebfd990-1021-4924-8341-40ce6ca2b285 │    18 │    282 │ Postpaid     │             12.27 │      59.61 │         30.13 │         751.42 │                5 │ true         │                0 │         13 │                     10 │               7.05 │ [Konuşalım] │ false   │\n",
      "│ fee4f898-4f0a-4fa0-aa69-4e6f25f587c5 │    22 │     51 │ Prepaid      │             84.47 │      29.24 │         46.99 │         962.87 │                0 │ NULL         │               75 │         13 │                     11 │               5.08 │ []          │ false   │\n",
      "│ eab25abb-6367-4b8d-861c-84f3b735f7cd │    18 │    118 │ Prepaid      │              6.12 │      85.98 │         43.26 │        2418.66 │                0 │ NULL         │                7 │         15 │                     20 │               7.03 │ [Konuşalım] │ false   │\n",
      "│ cd32465b-b598-47d3-8aa1-911243b7d9cf │    21 │    123 │ Prepaid      │             63.87 │       0.45 │         31.38 │        1622.87 │                0 │ NULL         │               18 │         19 │                     19 │               9.27 │ []          │ false   │\n",
      "├──────────────────────────────────────┴───────┴────────┴──────────────┴───────────────────┴────────────┴───────────────┴────────────────┴──────────────────┴──────────────┴──────────────────┴────────────┴────────────────────────┴────────────────────┴─────────────┴─────────┤\n",
      "│ ? rows (>9999 rows, 20 shown)                                                                                                                                                                                                                                       16 columns │\n",
      "└────────────────────────────────────────────────────────────────────────────────────────────────────────────────────────────────────────────────────────────────────────────────────────────────────────────────────────────────────────────────────────────────────────────────┘\n",
      "\n"
     ]
    }
   ],
   "source": [
    "with duckdb.connect(db_path) as con:\n",
    "    con.sql(\"select * from churn\").show()"
   ]
  },
  {
   "cell_type": "code",
   "execution_count": 6,
   "metadata": {},
   "outputs": [],
   "source": [
    "with duckdb.connect(db_path) as con:\n",
    "    df = con.sql(\"select * from churn\").df()"
   ]
  },
  {
   "cell_type": "code",
   "execution_count": 7,
   "metadata": {},
   "outputs": [],
   "source": [
    "#df.head()"
   ]
  },
  {
   "cell_type": "code",
   "execution_count": 8,
   "metadata": {},
   "outputs": [],
   "source": [
    "#df.info()"
   ]
  },
  {
   "cell_type": "code",
   "execution_count": 9,
   "metadata": {},
   "outputs": [],
   "source": [
    "#df.describe().T"
   ]
  },
  {
   "cell_type": "code",
   "execution_count": 10,
   "metadata": {},
   "outputs": [],
   "source": [
    "apps = ['İzleGo', 'RitimGo', 'CüzdanX', 'HızlıPazar', 'Konuşalım']\n",
    "df[apps] = 0"
   ]
  },
  {
   "cell_type": "code",
   "execution_count": 11,
   "metadata": {},
   "outputs": [],
   "source": [
    "for idx, app_list in enumerate(df[\"apps\"]):\n",
    "    for app in app_list:\n",
    "        if app in apps:\n",
    "            df.loc[idx,app] = 1\n",
    "    "
   ]
  },
  {
   "cell_type": "code",
   "execution_count": 70,
   "metadata": {},
   "outputs": [],
   "source": [
    "columns = list(df.columns)\n",
    "columns.remove(\"apps\")"
   ]
  },
  {
   "cell_type": "code",
   "execution_count": 71,
   "metadata": {},
   "outputs": [],
   "source": [
    "def analyze_data(dataframe, cat_th=10, car_th=20):\n",
    "    \"\"\"\n",
    "    It gives the names of categorical, numerical and categorical but cardinal variables in the data set. It also performs incomplete data analysis.\n",
    "    Parameters\n",
    "    ------\n",
    "        dataframe: dataframe\n",
    "            The dataframe from which variable names are to be retrieved\n",
    "        cat_th: int, optional\n",
    "            Class threshold value for numeric but categorical variables\n",
    "        car_th: int, optional\n",
    "            Class threshold for categorical but cardinal variables\n",
    "\n",
    "    Returns\n",
    "    ------\n",
    "        cat_cols: list\n",
    "            Categorical variable list\n",
    "        num_cols: list\n",
    "            Numerik değişken listesi\n",
    "        cat_but_car: list\n",
    "            Categorical view cardinal variable list\n",
    "    \"\"\"\n",
    "    cat_cols = [col for col in dataframe.columns if dataframe[col].dtype == \"O\"]\n",
    "    num_cols = [col for col in dataframe.columns if dataframe[col].dtype != \"O\"]\n",
    "\n",
    "    num_but_cat = [col for col in num_cols if dataframe[col].nunique() < cat_th]\n",
    "    cat_but_car = [col for col in cat_cols if dataframe[col].nunique() > car_th]\n",
    "\n",
    "    cat_cols = [col for col in cat_cols if col not in cat_but_car]\n",
    "    num_cols = [col for col in num_cols if col not in num_but_cat]\n",
    "\n",
    "    cat_cols = cat_cols + num_but_cat\n",
    "    \n",
    "    print(f\"Number of Observations: {dataframe.shape[0]}\")\n",
    "    print(f\"Number of Variables: {dataframe.shape[1]}\")\n",
    "    print(f'Cat cols: {len(cat_cols)}, Num cols: {len(num_cols)}, Cat but car cols: {len(cat_but_car)}')\n",
    "\n",
    "    return cat_cols, num_cols, cat_but_car"
   ]
  },
  {
   "cell_type": "code",
   "execution_count": 72,
   "metadata": {},
   "outputs": [
    {
     "name": "stdout",
     "output_type": "stream",
     "text": [
      "Number of Observations: 10000000\n",
      "Number of Variables: 20\n",
      "Cat cols: 9, Num cols: 10, Cat but car cols: 1\n"
     ]
    }
   ],
   "source": [
    "cat_cols, num_cols, cat_but_car = analyze_data(df[columns])"
   ]
  },
  {
   "cell_type": "code",
   "execution_count": 73,
   "metadata": {},
   "outputs": [
    {
     "data": {
      "text/plain": [
       "id    0\n",
       "dtype: int64"
      ]
     },
     "execution_count": 73,
     "metadata": {},
     "output_type": "execute_result"
    }
   ],
   "source": [
    "df[cat_but_car].isna().sum()"
   ]
  },
  {
   "cell_type": "code",
   "execution_count": 1,
   "metadata": {},
   "outputs": [
    {
     "ename": "NameError",
     "evalue": "name 'duckdb' is not defined",
     "output_type": "error",
     "traceback": [
      "\u001b[1;31m---------------------------------------------------------------------------\u001b[0m",
      "\u001b[1;31mNameError\u001b[0m                                 Traceback (most recent call last)",
      "Cell \u001b[1;32mIn[1], line 1\u001b[0m\n\u001b[1;32m----> 1\u001b[0m \u001b[38;5;28;01mwith\u001b[39;00m \u001b[43mduckdb\u001b[49m\u001b[38;5;241m.\u001b[39mconnect(db_path) \u001b[38;5;28;01mas\u001b[39;00m con:\n\u001b[0;32m      2\u001b[0m     con\u001b[38;5;241m.\u001b[39msql(\u001b[38;5;124m\"\u001b[39m\u001b[38;5;124mselect disticts Prepaid from df\u001b[39m\u001b[38;5;124m\"\u001b[39m)\u001b[38;5;241m.\u001b[39mshow()\n",
      "\u001b[1;31mNameError\u001b[0m: name 'duckdb' is not defined"
     ]
    }
   ],
   "source": [
    "with duckdb.connect(db_path) as con:\n",
    "    con.sql(\"select disticts Prepaid from df\").show()"
   ]
  },
  {
   "cell_type": "code",
   "execution_count": null,
   "metadata": {},
   "outputs": [],
   "source": []
  }
 ],
 "metadata": {
  "kernelspec": {
   "display_name": "DataScience",
   "language": "python",
   "name": "python3"
  },
  "language_info": {
   "codemirror_mode": {
    "name": "ipython",
    "version": 3
   },
   "file_extension": ".py",
   "mimetype": "text/x-python",
   "name": "python",
   "nbconvert_exporter": "python",
   "pygments_lexer": "ipython3",
   "version": "3.11.9"
  }
 },
 "nbformat": 4,
 "nbformat_minor": 2
}
