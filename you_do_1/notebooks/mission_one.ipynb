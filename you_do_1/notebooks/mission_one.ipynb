{
 "cells": [
  {
   "cell_type": "code",
   "execution_count": 1,
   "metadata": {},
   "outputs": [],
   "source": [
    "import pandas as pd\n",
    "import numpy as np"
   ]
  },
  {
   "cell_type": "code",
   "execution_count": 2,
   "metadata": {},
   "outputs": [],
   "source": [
    "config = {\n",
    "    \"rating_address_template\": \"dataset/raw/binge/rating_x.csv\",\n",
    "    \"number_of_rating_addresses\": 4,\n",
    "    \"movie_titles_address\": \"dataset/raw/binge/movie_titles.csv\",\n",
    "}"
   ]
  },
  {
   "cell_type": "code",
   "execution_count": 3,
   "metadata": {},
   "outputs": [],
   "source": [
    "class BingeDataset:\n",
    "    def __init__(self, rating_address_template: str, number_of_rating_addresses: int, movie_titles_address: str):\n",
    "        self.rating_address_template = rating_address_template\n",
    "        self.NUMBER_OF_RATING_ADDRESSES = number_of_rating_addresses\n",
    "        self.movie_titles_address = movie_titles_address\n",
    "\n",
    "    def get_df(self) -> pd.DataFrame:\n",
    "        ratings_df = self.get_cleaned_ratings()\n",
    "        ratings_with_median = self.replace_ratings_with_median_ratings(ratings_df)\n",
    "        ratings_with_count = self.get_rating_counts(ratings_with_median)\n",
    "        rating_final_df = self.merge_median_and_count_ratings(ratings_with_median, ratings_with_count)\n",
    "\n",
    "        rating_final_df[\"score\"] = (\n",
    "            rating_final_df[\"median_rating\"] * rating_final_df[\"count_of_review\"]\n",
    "        )\n",
    "\n",
    "        movie_titles_final = self.get_movie_titles_df()\n",
    "\n",
    "        df = rating_final_df.merge(\n",
    "            movie_titles_final,\n",
    "            how=\"inner\",\n",
    "            left_on=\"movie_id\",\n",
    "            right_on=\"movie_id\"\n",
    "        )\n",
    "\n",
    "        df = self.change_types(df)\n",
    "\n",
    "        return df\n",
    "\n",
    "    def change_types(self, df: pd.DataFrame):\n",
    "        return (\n",
    "            df\n",
    "            .astype({\"year_of_publication\": \"int32\"})\n",
    "            .astype({col: \"int32\" for col in df.select_dtypes(\"int64\").columns})\n",
    "            .astype({col: \"float32\" for col in df.select_dtypes(\"float64\").columns})\n",
    "        )\n",
    "\n",
    "    def merge_median_and_count_ratings(\n",
    "        self,\n",
    "        ratings_with_median: pd.DataFrame,\n",
    "        ratings_with_count: pd.DataFrame\n",
    "    ) -> pd.DataFrame:\n",
    "        columns_mapping = {\n",
    "            \"median_rating_x\": \"median_rating\",\n",
    "            \"median_rating_y\": \"count_of_review\",\n",
    "        }\n",
    "\n",
    "        return (\n",
    "            ratings_with_median\n",
    "            .merge(ratings_with_count, how=\"inner\", left_on=\"movie_id\", right_on=\"movie_id\")\n",
    "            .rename(columns=columns_mapping)\n",
    "        )\n",
    "\n",
    "    def get_movie_titles_df(self) -> pd.DataFrame:\n",
    "\n",
    "        movie_titles_columns = (\"movie_id\", \"year_of_publication\", \"movie_name\")\n",
    "\n",
    "        movie_titles = pd.read_csv(\n",
    "            self.movie_titles_address,\n",
    "            encoding=\"ISO-8859-1\",\n",
    "            usecols=[0, 1, 2],\n",
    "            names=movie_titles_columns,\n",
    "        )\n",
    "\n",
    "        return movie_titles[~(movie_titles[\"year_of_publication\"].isna())]\n",
    "\n",
    "    def get_rating_counts(self, ratings_with_median: pd.DataFrame) -> pd.DataFrame:\n",
    "        return (\n",
    "            ratings_with_median.groupby(by=\"movie_id\")[\"median_rating\"]\n",
    "            .count()\n",
    "            .reset_index()\n",
    "        )\n",
    "\n",
    "    def replace_ratings_with_median_ratings(\n",
    "        self, ratings_df: pd.DataFrame\n",
    "    ) -> pd.DataFrame:\n",
    "        return (\n",
    "            ratings_df.groupby(by=\"movie_id\")[[\"rating\"]]\n",
    "            .median()\n",
    "            .reset_index()\n",
    "            .merge(ratings_df, how=\"inner\", left_on=\"movie_id\", right_on=\"movie_id\")\n",
    "            .drop(columns=\"rating_y\")\n",
    "            .rename(columns={\"rating_x\": \"median_rating\"})\n",
    "        )\n",
    "\n",
    "    def get_cleaned_ratings(self) -> pd.DataFrame:\n",
    "        rating_columns = [\"movie_id\", \"user_id\", \"datetime\", \"rating\"]\n",
    "\n",
    "        rating_dfs = [\n",
    "            pd.read_csv(address, names=rating_columns)\n",
    "            for address in (\n",
    "                self.rating_address_template.replace(\"x\", str(i))\n",
    "                for i in range(1, self.NUMBER_OF_RATING_ADDRESSES)\n",
    "            )\n",
    "        ]\n",
    "\n",
    "        return pd.concat(rating_dfs).drop(columns=\"datetime\")"
   ]
  },
  {
   "cell_type": "code",
   "execution_count": 4,
   "metadata": {},
   "outputs": [],
   "source": [
    "df = BingeDataset(**config).get_df()"
   ]
  },
  {
   "cell_type": "code",
   "execution_count": 14,
   "metadata": {},
   "outputs": [],
   "source": [
    "def get_recommendations_for_new_users(df, n_movies=5, size_of_pool_to_select_from = 100) -> np.array:\n",
    "    movies_to_select = np.random.randint(0, size_of_pool_to_select_from, n_movies)\n",
    "\n",
    "    return (\n",
    "        df\n",
    "        .sort_values(by=\"score\", ascending=False)[\"movie_name\"]\n",
    "        .unique()\n",
    "        [:size_of_pool_to_select_from]\n",
    "        [movies_to_select]\n",
    "    )"
   ]
  },
  {
   "cell_type": "code",
   "execution_count": 15,
   "metadata": {},
   "outputs": [
    {
     "data": {
      "text/plain": [
       "array(['Finding Nemo (Widescreen)', 'Mean Girls',\n",
       "       \"Ferris Bueller's Day Off\", 'Raiders of the Lost Ark', 'Ray'],\n",
       "      dtype=object)"
      ]
     },
     "execution_count": 15,
     "metadata": {},
     "output_type": "execute_result"
    }
   ],
   "source": [
    "get_recommendations_for_new_users(df)"
   ]
  }
 ],
 "metadata": {
  "kernelspec": {
   "display_name": "ds-study",
   "language": "python",
   "name": "python3"
  },
  "language_info": {
   "codemirror_mode": {
    "name": "ipython",
    "version": 3
   },
   "file_extension": ".py",
   "mimetype": "text/x-python",
   "name": "python",
   "nbconvert_exporter": "python",
   "pygments_lexer": "ipython3",
   "version": "3.11.8"
  }
 },
 "nbformat": 4,
 "nbformat_minor": 2
}
