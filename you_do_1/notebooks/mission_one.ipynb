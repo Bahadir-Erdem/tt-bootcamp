{
 "cells": [
  {
   "cell_type": "code",
   "execution_count": 1,
   "metadata": {},
   "outputs": [],
   "source": [
    "import pandas as pd\n",
    "import numpy as np"
   ]
  },
  {
   "cell_type": "code",
   "execution_count": 2,
   "metadata": {},
   "outputs": [],
   "source": [
    "rating_address_template = \"dataset/raw/binge/rating_x.csv\"\n",
    "NUMBER_OF_RATING_ADDRESSES = 4"
   ]
  },
  {
   "cell_type": "code",
   "execution_count": 3,
   "metadata": {},
   "outputs": [],
   "source": [
    "def get_cleaned_ratings() -> pd.DataFrame:\n",
    "    rating_columns = [\"movie_id\", \"user_id\", \"datetime\", \"rating\"]\n",
    "\n",
    "    rating_dfs = [\n",
    "        pd.read_csv(address, names=rating_columns)\n",
    "        for address in (\n",
    "            rating_address_template.replace(\"x\", str(i))\n",
    "            for i in range(1, NUMBER_OF_RATING_ADDRESSES)\n",
    "        )\n",
    "    ]\n",
    "\n",
    "    return pd.concat(rating_dfs).drop(columns=\"datetime\")"
   ]
  },
  {
   "cell_type": "code",
   "execution_count": 4,
   "metadata": {},
   "outputs": [],
   "source": [
    "ratings_df = get_cleaned_ratings()"
   ]
  },
  {
   "cell_type": "code",
   "execution_count": 5,
   "metadata": {},
   "outputs": [
    {
     "data": {
      "text/html": [
       "<div>\n",
       "<style scoped>\n",
       "    .dataframe tbody tr th:only-of-type {\n",
       "        vertical-align: middle;\n",
       "    }\n",
       "\n",
       "    .dataframe tbody tr th {\n",
       "        vertical-align: top;\n",
       "    }\n",
       "\n",
       "    .dataframe thead th {\n",
       "        text-align: right;\n",
       "    }\n",
       "</style>\n",
       "<table border=\"1\" class=\"dataframe\">\n",
       "  <thead>\n",
       "    <tr style=\"text-align: right;\">\n",
       "      <th></th>\n",
       "      <th>movie_id</th>\n",
       "      <th>user_id</th>\n",
       "      <th>rating</th>\n",
       "    </tr>\n",
       "  </thead>\n",
       "  <tbody>\n",
       "    <tr>\n",
       "      <th>0</th>\n",
       "      <td>1</td>\n",
       "      <td>1488844</td>\n",
       "      <td>3</td>\n",
       "    </tr>\n",
       "    <tr>\n",
       "      <th>1</th>\n",
       "      <td>1</td>\n",
       "      <td>822109</td>\n",
       "      <td>5</td>\n",
       "    </tr>\n",
       "    <tr>\n",
       "      <th>2</th>\n",
       "      <td>1</td>\n",
       "      <td>885013</td>\n",
       "      <td>4</td>\n",
       "    </tr>\n",
       "    <tr>\n",
       "      <th>3</th>\n",
       "      <td>1</td>\n",
       "      <td>30878</td>\n",
       "      <td>4</td>\n",
       "    </tr>\n",
       "    <tr>\n",
       "      <th>4</th>\n",
       "      <td>1</td>\n",
       "      <td>823519</td>\n",
       "      <td>3</td>\n",
       "    </tr>\n",
       "    <tr>\n",
       "      <th>...</th>\n",
       "      <td>...</td>\n",
       "      <td>...</td>\n",
       "      <td>...</td>\n",
       "    </tr>\n",
       "    <tr>\n",
       "      <th>22601624</th>\n",
       "      <td>13367</td>\n",
       "      <td>2339129</td>\n",
       "      <td>4</td>\n",
       "    </tr>\n",
       "    <tr>\n",
       "      <th>22601625</th>\n",
       "      <td>13367</td>\n",
       "      <td>59005</td>\n",
       "      <td>4</td>\n",
       "    </tr>\n",
       "    <tr>\n",
       "      <th>22601626</th>\n",
       "      <td>13367</td>\n",
       "      <td>1789683</td>\n",
       "      <td>5</td>\n",
       "    </tr>\n",
       "    <tr>\n",
       "      <th>22601627</th>\n",
       "      <td>13367</td>\n",
       "      <td>1878798</td>\n",
       "      <td>1</td>\n",
       "    </tr>\n",
       "    <tr>\n",
       "      <th>22601628</th>\n",
       "      <td>13367</td>\n",
       "      <td>2634967</td>\n",
       "      <td>1</td>\n",
       "    </tr>\n",
       "  </tbody>\n",
       "</table>\n",
       "<p>73632984 rows × 3 columns</p>\n",
       "</div>"
      ],
      "text/plain": [
       "          movie_id  user_id  rating\n",
       "0                1  1488844       3\n",
       "1                1   822109       5\n",
       "2                1   885013       4\n",
       "3                1    30878       4\n",
       "4                1   823519       3\n",
       "...            ...      ...     ...\n",
       "22601624     13367  2339129       4\n",
       "22601625     13367    59005       4\n",
       "22601626     13367  1789683       5\n",
       "22601627     13367  1878798       1\n",
       "22601628     13367  2634967       1\n",
       "\n",
       "[73632984 rows x 3 columns]"
      ]
     },
     "execution_count": 5,
     "metadata": {},
     "output_type": "execute_result"
    }
   ],
   "source": [
    "ratings_df"
   ]
  },
  {
   "cell_type": "code",
   "execution_count": 6,
   "metadata": {},
   "outputs": [],
   "source": [
    "def replace_ratings_with_median_ratings(ratings_df: pd.DataFrame) -> pd.DataFrame:\n",
    "    return (\n",
    "        ratings_df.groupby(by=\"movie_id\")[[\"rating\"]]\n",
    "        .median()\n",
    "        .reset_index()\n",
    "        .merge(ratings_df, how=\"inner\", left_on=\"movie_id\", right_on=\"movie_id\")\n",
    "        .drop(columns=\"rating_y\")\n",
    "        .rename(columns={\"rating_x\": \"median_rating\"})\n",
    "    )"
   ]
  },
  {
   "cell_type": "code",
   "execution_count": 7,
   "metadata": {},
   "outputs": [],
   "source": [
    "ratings_with_median = replace_ratings_with_median_ratings(ratings_df)"
   ]
  },
  {
   "cell_type": "code",
   "execution_count": 8,
   "metadata": {},
   "outputs": [],
   "source": [
    "def get_rating_counts(ratings_with_median: pd.DataFrame) -> pd.DataFrame:\n",
    "    return (\n",
    "        ratings_with_median.groupby(by=\"movie_id\")[\"median_rating\"]\n",
    "        .count()\n",
    "        .reset_index()\n",
    "    )"
   ]
  },
  {
   "cell_type": "code",
   "execution_count": 9,
   "metadata": {},
   "outputs": [],
   "source": [
    "ratings_with_count = get_rating_counts(ratings_with_median)"
   ]
  },
  {
   "cell_type": "code",
   "execution_count": 10,
   "metadata": {},
   "outputs": [],
   "source": [
    "columns_mapping = {\n",
    "    \"median_rating_x\": \"median_rating\",\n",
    "    \"median_rating_y\": \"count_of_review\",\n",
    "}\n",
    "\n",
    "rating_final_df = ratings_with_median.merge(\n",
    "    ratings_with_count, how=\"inner\", left_on=\"movie_id\", right_on=\"movie_id\"\n",
    ").rename(columns=columns_mapping)"
   ]
  },
  {
   "cell_type": "code",
   "execution_count": 11,
   "metadata": {},
   "outputs": [
    {
     "data": {
      "text/html": [
       "<div>\n",
       "<style scoped>\n",
       "    .dataframe tbody tr th:only-of-type {\n",
       "        vertical-align: middle;\n",
       "    }\n",
       "\n",
       "    .dataframe tbody tr th {\n",
       "        vertical-align: top;\n",
       "    }\n",
       "\n",
       "    .dataframe thead th {\n",
       "        text-align: right;\n",
       "    }\n",
       "</style>\n",
       "<table border=\"1\" class=\"dataframe\">\n",
       "  <thead>\n",
       "    <tr style=\"text-align: right;\">\n",
       "      <th></th>\n",
       "      <th>movie_id</th>\n",
       "      <th>median_rating</th>\n",
       "      <th>user_id</th>\n",
       "      <th>count_of_review</th>\n",
       "    </tr>\n",
       "  </thead>\n",
       "  <tbody>\n",
       "    <tr>\n",
       "      <th>0</th>\n",
       "      <td>1</td>\n",
       "      <td>4.0</td>\n",
       "      <td>1488844</td>\n",
       "      <td>547</td>\n",
       "    </tr>\n",
       "    <tr>\n",
       "      <th>1</th>\n",
       "      <td>1</td>\n",
       "      <td>4.0</td>\n",
       "      <td>822109</td>\n",
       "      <td>547</td>\n",
       "    </tr>\n",
       "    <tr>\n",
       "      <th>2</th>\n",
       "      <td>1</td>\n",
       "      <td>4.0</td>\n",
       "      <td>885013</td>\n",
       "      <td>547</td>\n",
       "    </tr>\n",
       "    <tr>\n",
       "      <th>3</th>\n",
       "      <td>1</td>\n",
       "      <td>4.0</td>\n",
       "      <td>30878</td>\n",
       "      <td>547</td>\n",
       "    </tr>\n",
       "    <tr>\n",
       "      <th>4</th>\n",
       "      <td>1</td>\n",
       "      <td>4.0</td>\n",
       "      <td>823519</td>\n",
       "      <td>547</td>\n",
       "    </tr>\n",
       "    <tr>\n",
       "      <th>...</th>\n",
       "      <td>...</td>\n",
       "      <td>...</td>\n",
       "      <td>...</td>\n",
       "      <td>...</td>\n",
       "    </tr>\n",
       "    <tr>\n",
       "      <th>73632979</th>\n",
       "      <td>13367</td>\n",
       "      <td>3.0</td>\n",
       "      <td>2339129</td>\n",
       "      <td>101</td>\n",
       "    </tr>\n",
       "    <tr>\n",
       "      <th>73632980</th>\n",
       "      <td>13367</td>\n",
       "      <td>3.0</td>\n",
       "      <td>59005</td>\n",
       "      <td>101</td>\n",
       "    </tr>\n",
       "    <tr>\n",
       "      <th>73632981</th>\n",
       "      <td>13367</td>\n",
       "      <td>3.0</td>\n",
       "      <td>1789683</td>\n",
       "      <td>101</td>\n",
       "    </tr>\n",
       "    <tr>\n",
       "      <th>73632982</th>\n",
       "      <td>13367</td>\n",
       "      <td>3.0</td>\n",
       "      <td>1878798</td>\n",
       "      <td>101</td>\n",
       "    </tr>\n",
       "    <tr>\n",
       "      <th>73632983</th>\n",
       "      <td>13367</td>\n",
       "      <td>3.0</td>\n",
       "      <td>2634967</td>\n",
       "      <td>101</td>\n",
       "    </tr>\n",
       "  </tbody>\n",
       "</table>\n",
       "<p>73632984 rows × 4 columns</p>\n",
       "</div>"
      ],
      "text/plain": [
       "          movie_id  median_rating  user_id  count_of_review\n",
       "0                1            4.0  1488844              547\n",
       "1                1            4.0   822109              547\n",
       "2                1            4.0   885013              547\n",
       "3                1            4.0    30878              547\n",
       "4                1            4.0   823519              547\n",
       "...            ...            ...      ...              ...\n",
       "73632979     13367            3.0  2339129              101\n",
       "73632980     13367            3.0    59005              101\n",
       "73632981     13367            3.0  1789683              101\n",
       "73632982     13367            3.0  1878798              101\n",
       "73632983     13367            3.0  2634967              101\n",
       "\n",
       "[73632984 rows x 4 columns]"
      ]
     },
     "execution_count": 11,
     "metadata": {},
     "output_type": "execute_result"
    }
   ],
   "source": [
    "rating_final_df"
   ]
  },
  {
   "cell_type": "code",
   "execution_count": 12,
   "metadata": {},
   "outputs": [],
   "source": [
    "rating_final_df[\"score\"] = (\n",
    "    rating_final_df[\"median_rating\"] * rating_final_df[\"count_of_review\"]\n",
    ")"
   ]
  },
  {
   "cell_type": "code",
   "execution_count": 13,
   "metadata": {},
   "outputs": [
    {
     "data": {
      "text/html": [
       "<div>\n",
       "<style scoped>\n",
       "    .dataframe tbody tr th:only-of-type {\n",
       "        vertical-align: middle;\n",
       "    }\n",
       "\n",
       "    .dataframe tbody tr th {\n",
       "        vertical-align: top;\n",
       "    }\n",
       "\n",
       "    .dataframe thead th {\n",
       "        text-align: right;\n",
       "    }\n",
       "</style>\n",
       "<table border=\"1\" class=\"dataframe\">\n",
       "  <thead>\n",
       "    <tr style=\"text-align: right;\">\n",
       "      <th></th>\n",
       "      <th>movie_id</th>\n",
       "      <th>median_rating</th>\n",
       "      <th>user_id</th>\n",
       "      <th>count_of_review</th>\n",
       "      <th>score</th>\n",
       "    </tr>\n",
       "  </thead>\n",
       "  <tbody>\n",
       "    <tr>\n",
       "      <th>0</th>\n",
       "      <td>1</td>\n",
       "      <td>4.0</td>\n",
       "      <td>1488844</td>\n",
       "      <td>547</td>\n",
       "      <td>2188.0</td>\n",
       "    </tr>\n",
       "    <tr>\n",
       "      <th>1</th>\n",
       "      <td>1</td>\n",
       "      <td>4.0</td>\n",
       "      <td>822109</td>\n",
       "      <td>547</td>\n",
       "      <td>2188.0</td>\n",
       "    </tr>\n",
       "    <tr>\n",
       "      <th>2</th>\n",
       "      <td>1</td>\n",
       "      <td>4.0</td>\n",
       "      <td>885013</td>\n",
       "      <td>547</td>\n",
       "      <td>2188.0</td>\n",
       "    </tr>\n",
       "    <tr>\n",
       "      <th>3</th>\n",
       "      <td>1</td>\n",
       "      <td>4.0</td>\n",
       "      <td>30878</td>\n",
       "      <td>547</td>\n",
       "      <td>2188.0</td>\n",
       "    </tr>\n",
       "    <tr>\n",
       "      <th>4</th>\n",
       "      <td>1</td>\n",
       "      <td>4.0</td>\n",
       "      <td>823519</td>\n",
       "      <td>547</td>\n",
       "      <td>2188.0</td>\n",
       "    </tr>\n",
       "    <tr>\n",
       "      <th>...</th>\n",
       "      <td>...</td>\n",
       "      <td>...</td>\n",
       "      <td>...</td>\n",
       "      <td>...</td>\n",
       "      <td>...</td>\n",
       "    </tr>\n",
       "    <tr>\n",
       "      <th>73632979</th>\n",
       "      <td>13367</td>\n",
       "      <td>3.0</td>\n",
       "      <td>2339129</td>\n",
       "      <td>101</td>\n",
       "      <td>303.0</td>\n",
       "    </tr>\n",
       "    <tr>\n",
       "      <th>73632980</th>\n",
       "      <td>13367</td>\n",
       "      <td>3.0</td>\n",
       "      <td>59005</td>\n",
       "      <td>101</td>\n",
       "      <td>303.0</td>\n",
       "    </tr>\n",
       "    <tr>\n",
       "      <th>73632981</th>\n",
       "      <td>13367</td>\n",
       "      <td>3.0</td>\n",
       "      <td>1789683</td>\n",
       "      <td>101</td>\n",
       "      <td>303.0</td>\n",
       "    </tr>\n",
       "    <tr>\n",
       "      <th>73632982</th>\n",
       "      <td>13367</td>\n",
       "      <td>3.0</td>\n",
       "      <td>1878798</td>\n",
       "      <td>101</td>\n",
       "      <td>303.0</td>\n",
       "    </tr>\n",
       "    <tr>\n",
       "      <th>73632983</th>\n",
       "      <td>13367</td>\n",
       "      <td>3.0</td>\n",
       "      <td>2634967</td>\n",
       "      <td>101</td>\n",
       "      <td>303.0</td>\n",
       "    </tr>\n",
       "  </tbody>\n",
       "</table>\n",
       "<p>73632984 rows × 5 columns</p>\n",
       "</div>"
      ],
      "text/plain": [
       "          movie_id  median_rating  user_id  count_of_review   score\n",
       "0                1            4.0  1488844              547  2188.0\n",
       "1                1            4.0   822109              547  2188.0\n",
       "2                1            4.0   885013              547  2188.0\n",
       "3                1            4.0    30878              547  2188.0\n",
       "4                1            4.0   823519              547  2188.0\n",
       "...            ...            ...      ...              ...     ...\n",
       "73632979     13367            3.0  2339129              101   303.0\n",
       "73632980     13367            3.0    59005              101   303.0\n",
       "73632981     13367            3.0  1789683              101   303.0\n",
       "73632982     13367            3.0  1878798              101   303.0\n",
       "73632983     13367            3.0  2634967              101   303.0\n",
       "\n",
       "[73632984 rows x 5 columns]"
      ]
     },
     "execution_count": 13,
     "metadata": {},
     "output_type": "execute_result"
    }
   ],
   "source": [
    "rating_final_df"
   ]
  },
  {
   "cell_type": "code",
   "execution_count": 14,
   "metadata": {},
   "outputs": [],
   "source": [
    "movie_titles_address = \"dataset/raw/binge/movie_titles.csv\"\n",
    "movie_titles_columns = (\"movie_id\", \"year_of_publication\", \"movie_name\")\n",
    "\n",
    "movie_titles = pd.read_csv(\n",
    "    movie_titles_address,\n",
    "    encoding=\"ISO-8859-1\",\n",
    "    usecols=[0, 1, 2],\n",
    "    names=movie_titles_columns,\n",
    ")"
   ]
  },
  {
   "cell_type": "code",
   "execution_count": 15,
   "metadata": {},
   "outputs": [],
   "source": [
    "movie_titles_final = movie_titles[~(movie_titles[\"year_of_publication\"].isna())]"
   ]
  },
  {
   "cell_type": "code",
   "execution_count": 16,
   "metadata": {},
   "outputs": [],
   "source": [
    "df = rating_final_df.merge(\n",
    "    movie_titles_final, how=\"inner\", left_on=\"movie_id\", right_on=\"movie_id\"\n",
    ")"
   ]
  },
  {
   "cell_type": "code",
   "execution_count": 17,
   "metadata": {},
   "outputs": [],
   "source": [
    "df = df.astype({col: \"int32\" for col in df.select_dtypes(\"int64\").columns})\n",
    "df = df.astype({col: \"float32\" for col in df.select_dtypes(\"float64\").columns})"
   ]
  },
  {
   "cell_type": "code",
   "execution_count": 18,
   "metadata": {},
   "outputs": [
    {
     "name": "stdout",
     "output_type": "stream",
     "text": [
      "<class 'pandas.core.frame.DataFrame'>\n",
      "RangeIndex: 73632412 entries, 0 to 73632411\n",
      "Data columns (total 7 columns):\n",
      " #   Column               Dtype  \n",
      "---  ------               -----  \n",
      " 0   movie_id             int32  \n",
      " 1   median_rating        float32\n",
      " 2   user_id              int32  \n",
      " 3   count_of_review      int32  \n",
      " 4   score                float32\n",
      " 5   year_of_publication  float32\n",
      " 6   movie_name           object \n",
      "dtypes: float32(3), int32(3), object(1)\n",
      "memory usage: 2.2+ GB\n"
     ]
    }
   ],
   "source": [
    "df.info()"
   ]
  },
  {
   "cell_type": "code",
   "execution_count": 19,
   "metadata": {},
   "outputs": [],
   "source": [
    "def get_best_scored_movies(df, n_movies=5) -> np.array:\n",
    "    return df.sort_values(by=\"score\", ascending=False)[\"movie_name\"].unique()[:n_movies]"
   ]
  },
  {
   "cell_type": "code",
   "execution_count": 20,
   "metadata": {},
   "outputs": [
    {
     "data": {
      "text/plain": [
       "array(['Forrest Gump',\n",
       "       'Pirates of the Caribbean: The Curse of the Black Pearl',\n",
       "       'Pretty Woman', 'Lord of the Rings: The Two Towers',\n",
       "       'Lord of the Rings: The Fellowship of the Ring'], dtype=object)"
      ]
     },
     "execution_count": 20,
     "metadata": {},
     "output_type": "execute_result"
    }
   ],
   "source": [
    "get_best_scored_movies(df)"
   ]
  }
 ],
 "metadata": {
  "kernelspec": {
   "display_name": "ds-study",
   "language": "python",
   "name": "python3"
  },
  "language_info": {
   "codemirror_mode": {
    "name": "ipython",
    "version": 3
   },
   "file_extension": ".py",
   "mimetype": "text/x-python",
   "name": "python",
   "nbconvert_exporter": "python",
   "pygments_lexer": "ipython3",
   "version": "3.11.8"
  }
 },
 "nbformat": 4,
 "nbformat_minor": 2
}
